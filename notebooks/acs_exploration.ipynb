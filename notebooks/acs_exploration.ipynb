{
 "metadata": {
  "language_info": {
   "codemirror_mode": {
    "name": "ipython",
    "version": 3
   },
   "file_extension": ".py",
   "mimetype": "text/x-python",
   "name": "python",
   "nbconvert_exporter": "python",
   "pygments_lexer": "ipython3",
   "version": "3.7.8-final"
  },
  "orig_nbformat": 2,
  "kernelspec": {
   "name": "Python 3.7.8 64-bit ('geoenv': conda)",
   "display_name": "Python 3.7.8 64-bit ('geoenv': conda)",
   "metadata": {
    "interpreter": {
     "hash": "7d38ed927980c46fdf22d1235308f9a3e774759b7eb57a85694f5aa9cebcce7d"
    }
   }
  }
 },
 "nbformat": 4,
 "nbformat_minor": 2,
 "cells": [
  {
   "source": [
    "# ACS data\n",
    "\n",
    "Let's start by reading the data!"
   ],
   "cell_type": "markdown",
   "metadata": {}
  },
  {
   "cell_type": "code",
   "execution_count": 21,
   "metadata": {},
   "outputs": [
    {
     "output_type": "execute_result",
     "data": {
      "text/plain": [
       "   Unnamed: 0         geoid                  acs_demog_var   value\n",
       "0           0  360050001001                      total_pop  7080.0\n",
       "1           1  360050001001          two_or_more_races_pop    41.0\n",
       "2           2  360050001001  vacant_housing_units_for_rent     0.0\n",
       "3           3  360050001001                 unemployed_pop     0.0\n",
       "4           4  360050001001                      black_pop  3984.0"
      ],
      "text/html": "<div>\n<style scoped>\n    .dataframe tbody tr th:only-of-type {\n        vertical-align: middle;\n    }\n\n    .dataframe tbody tr th {\n        vertical-align: top;\n    }\n\n    .dataframe thead th {\n        text-align: right;\n    }\n</style>\n<table border=\"1\" class=\"dataframe\">\n  <thead>\n    <tr style=\"text-align: right;\">\n      <th></th>\n      <th>Unnamed: 0</th>\n      <th>geoid</th>\n      <th>acs_demog_var</th>\n      <th>value</th>\n    </tr>\n  </thead>\n  <tbody>\n    <tr>\n      <th>0</th>\n      <td>0</td>\n      <td>360050001001</td>\n      <td>total_pop</td>\n      <td>7080.0</td>\n    </tr>\n    <tr>\n      <th>1</th>\n      <td>1</td>\n      <td>360050001001</td>\n      <td>two_or_more_races_pop</td>\n      <td>41.0</td>\n    </tr>\n    <tr>\n      <th>2</th>\n      <td>2</td>\n      <td>360050001001</td>\n      <td>vacant_housing_units_for_rent</td>\n      <td>0.0</td>\n    </tr>\n    <tr>\n      <th>3</th>\n      <td>3</td>\n      <td>360050001001</td>\n      <td>unemployed_pop</td>\n      <td>0.0</td>\n    </tr>\n    <tr>\n      <th>4</th>\n      <td>4</td>\n      <td>360050001001</td>\n      <td>black_pop</td>\n      <td>3984.0</td>\n    </tr>\n  </tbody>\n</table>\n</div>"
     },
     "metadata": {},
     "execution_count": 21
    }
   ],
   "source": [
    "import pandas as pd\n",
    "demo = pd.read_csv(r'..\\data\\raw\\nyc_acs_demographics.csv')\n",
    "demo.head()"
   ]
  },
  {
   "source": [
    "The variables are stacked in the acs_demog_var column, we should unpack to different columns."
   ],
   "cell_type": "markdown",
   "metadata": {}
  },
  {
   "cell_type": "code",
   "execution_count": 22,
   "metadata": {},
   "outputs": [
    {
     "output_type": "execute_result",
     "data": {
      "text/plain": [
       "acs_demog_var  aggregate_travel_time_to_work  amerindian_pop    asian_pop  \\\n",
       "count                             362.000000     6339.000000  6339.000000   \n",
       "mean                            34616.422652        2.380186   185.575170   \n",
       "std                             20381.770030       13.583396   285.281508   \n",
       "min                              6450.000000        0.000000     0.000000   \n",
       "25%                             21785.000000        0.000000    10.000000   \n",
       "50%                             30877.500000        0.000000    72.000000   \n",
       "75%                             40933.750000        0.000000   237.500000   \n",
       "max                            195980.000000      274.000000  3960.000000   \n",
       "\n",
       "acs_demog_var    black_pop  commuters_16_over  \\\n",
       "count          6339.000000        6339.000000   \n",
       "mean            295.618394         602.898880   \n",
       "std             436.053112         336.115082   \n",
       "min               0.000000           0.000000   \n",
       "25%               7.000000         397.000000   \n",
       "50%              79.000000         552.000000   \n",
       "75%             451.000000         751.500000   \n",
       "max            4744.000000        6483.000000   \n",
       "\n",
       "acs_demog_var  commuters_by_public_transportation  employed_pop  \\\n",
       "count                                 6339.000000   6339.000000   \n",
       "mean                                   352.085029    644.844613   \n",
       "std                                    248.154204    356.828817   \n",
       "min                                      0.000000      0.000000   \n",
       "25%                                    191.000000    425.000000   \n",
       "50%                                    310.000000    588.000000   \n",
       "75%                                    463.000000    800.000000   \n",
       "max                                   4849.000000   6767.000000   \n",
       "\n",
       "acs_demog_var  families_with_young_children  family_households   female_pop  \\\n",
       "count                           6339.000000        6339.000000  6339.000000   \n",
       "mean                              98.536362         300.488405   702.815271   \n",
       "std                               87.249059         158.296530   358.603710   \n",
       "min                                0.000000           0.000000     0.000000   \n",
       "25%                               39.000000         200.000000   472.000000   \n",
       "50%                               79.000000         278.000000   648.000000   \n",
       "75%                              136.000000         374.000000   863.000000   \n",
       "max                             1030.000000        2250.000000  5037.000000   \n",
       "\n",
       "acs_demog_var  ...  other_race_pop  owner_occupied_housing_units_median_value  \\\n",
       "count          ...     6339.000000                               4.556000e+03   \n",
       "mean           ...       11.458116                               6.872881e+05   \n",
       "std            ...       43.207546                               3.830040e+05   \n",
       "min            ...        0.000000                               9.999000e+03   \n",
       "25%            ...        0.000000                               4.430000e+05   \n",
       "50%            ...        0.000000                               5.981500e+05   \n",
       "75%            ...        0.000000                               8.288000e+05   \n",
       "max            ...      721.000000                               2.000001e+06   \n",
       "\n",
       "acs_demog_var  pop_16_over  \\\n",
       "count          6339.000000   \n",
       "mean           1091.115160   \n",
       "std             539.026034   \n",
       "min               0.000000   \n",
       "25%             747.000000   \n",
       "50%            1013.000000   \n",
       "75%            1332.000000   \n",
       "max            7881.000000   \n",
       "\n",
       "acs_demog_var  renter_occupied_housing_units_paying_cash_median_gross_rent  \\\n",
       "count                                                5807.000000             \n",
       "mean                                                 1523.152574             \n",
       "std                                                   535.556652             \n",
       "min                                                   229.000000             \n",
       "25%                                                  1232.000000             \n",
       "50%                                                  1442.000000             \n",
       "75%                                                  1728.000000             \n",
       "max                                                  3501.000000             \n",
       "\n",
       "acs_demog_var    total_pop  two_or_more_races_pop  unemployed_pop  \\\n",
       "count          6339.000000            6339.000000     6339.000000   \n",
       "mean           1343.245149              25.833728       47.946364   \n",
       "std             658.446589              43.511631       47.769236   \n",
       "min               0.000000               0.000000        0.000000   \n",
       "25%             918.000000               0.000000       15.000000   \n",
       "50%            1249.000000               9.000000       36.000000   \n",
       "75%            1648.000000              35.000000       67.000000   \n",
       "max            8830.000000             766.000000      575.000000   \n",
       "\n",
       "acs_demog_var  vacant_housing_units  vacant_housing_units_for_rent  \\\n",
       "count                   6339.000000                    6339.000000   \n",
       "mean                      50.476100                      12.062786   \n",
       "std                       68.955807                      24.462099   \n",
       "min                        0.000000                       0.000000   \n",
       "25%                       11.000000                       0.000000   \n",
       "50%                       34.000000                       0.000000   \n",
       "75%                       65.000000                      17.000000   \n",
       "max                     1513.000000                     467.000000   \n",
       "\n",
       "acs_demog_var    white_pop  \n",
       "count          6339.000000  \n",
       "mean            432.200663  \n",
       "std             486.881898  \n",
       "min               0.000000  \n",
       "25%              46.000000  \n",
       "50%             281.000000  \n",
       "75%             674.000000  \n",
       "max            6111.000000  \n",
       "\n",
       "[8 rows x 33 columns]"
      ],
      "text/html": "<div>\n<style scoped>\n    .dataframe tbody tr th:only-of-type {\n        vertical-align: middle;\n    }\n\n    .dataframe tbody tr th {\n        vertical-align: top;\n    }\n\n    .dataframe thead th {\n        text-align: right;\n    }\n</style>\n<table border=\"1\" class=\"dataframe\">\n  <thead>\n    <tr style=\"text-align: right;\">\n      <th>acs_demog_var</th>\n      <th>aggregate_travel_time_to_work</th>\n      <th>amerindian_pop</th>\n      <th>asian_pop</th>\n      <th>black_pop</th>\n      <th>commuters_16_over</th>\n      <th>commuters_by_public_transportation</th>\n      <th>employed_pop</th>\n      <th>families_with_young_children</th>\n      <th>family_households</th>\n      <th>female_pop</th>\n      <th>...</th>\n      <th>other_race_pop</th>\n      <th>owner_occupied_housing_units_median_value</th>\n      <th>pop_16_over</th>\n      <th>renter_occupied_housing_units_paying_cash_median_gross_rent</th>\n      <th>total_pop</th>\n      <th>two_or_more_races_pop</th>\n      <th>unemployed_pop</th>\n      <th>vacant_housing_units</th>\n      <th>vacant_housing_units_for_rent</th>\n      <th>white_pop</th>\n    </tr>\n  </thead>\n  <tbody>\n    <tr>\n      <th>count</th>\n      <td>362.000000</td>\n      <td>6339.000000</td>\n      <td>6339.000000</td>\n      <td>6339.000000</td>\n      <td>6339.000000</td>\n      <td>6339.000000</td>\n      <td>6339.000000</td>\n      <td>6339.000000</td>\n      <td>6339.000000</td>\n      <td>6339.000000</td>\n      <td>...</td>\n      <td>6339.000000</td>\n      <td>4.556000e+03</td>\n      <td>6339.000000</td>\n      <td>5807.000000</td>\n      <td>6339.000000</td>\n      <td>6339.000000</td>\n      <td>6339.000000</td>\n      <td>6339.000000</td>\n      <td>6339.000000</td>\n      <td>6339.000000</td>\n    </tr>\n    <tr>\n      <th>mean</th>\n      <td>34616.422652</td>\n      <td>2.380186</td>\n      <td>185.575170</td>\n      <td>295.618394</td>\n      <td>602.898880</td>\n      <td>352.085029</td>\n      <td>644.844613</td>\n      <td>98.536362</td>\n      <td>300.488405</td>\n      <td>702.815271</td>\n      <td>...</td>\n      <td>11.458116</td>\n      <td>6.872881e+05</td>\n      <td>1091.115160</td>\n      <td>1523.152574</td>\n      <td>1343.245149</td>\n      <td>25.833728</td>\n      <td>47.946364</td>\n      <td>50.476100</td>\n      <td>12.062786</td>\n      <td>432.200663</td>\n    </tr>\n    <tr>\n      <th>std</th>\n      <td>20381.770030</td>\n      <td>13.583396</td>\n      <td>285.281508</td>\n      <td>436.053112</td>\n      <td>336.115082</td>\n      <td>248.154204</td>\n      <td>356.828817</td>\n      <td>87.249059</td>\n      <td>158.296530</td>\n      <td>358.603710</td>\n      <td>...</td>\n      <td>43.207546</td>\n      <td>3.830040e+05</td>\n      <td>539.026034</td>\n      <td>535.556652</td>\n      <td>658.446589</td>\n      <td>43.511631</td>\n      <td>47.769236</td>\n      <td>68.955807</td>\n      <td>24.462099</td>\n      <td>486.881898</td>\n    </tr>\n    <tr>\n      <th>min</th>\n      <td>6450.000000</td>\n      <td>0.000000</td>\n      <td>0.000000</td>\n      <td>0.000000</td>\n      <td>0.000000</td>\n      <td>0.000000</td>\n      <td>0.000000</td>\n      <td>0.000000</td>\n      <td>0.000000</td>\n      <td>0.000000</td>\n      <td>...</td>\n      <td>0.000000</td>\n      <td>9.999000e+03</td>\n      <td>0.000000</td>\n      <td>229.000000</td>\n      <td>0.000000</td>\n      <td>0.000000</td>\n      <td>0.000000</td>\n      <td>0.000000</td>\n      <td>0.000000</td>\n      <td>0.000000</td>\n    </tr>\n    <tr>\n      <th>25%</th>\n      <td>21785.000000</td>\n      <td>0.000000</td>\n      <td>10.000000</td>\n      <td>7.000000</td>\n      <td>397.000000</td>\n      <td>191.000000</td>\n      <td>425.000000</td>\n      <td>39.000000</td>\n      <td>200.000000</td>\n      <td>472.000000</td>\n      <td>...</td>\n      <td>0.000000</td>\n      <td>4.430000e+05</td>\n      <td>747.000000</td>\n      <td>1232.000000</td>\n      <td>918.000000</td>\n      <td>0.000000</td>\n      <td>15.000000</td>\n      <td>11.000000</td>\n      <td>0.000000</td>\n      <td>46.000000</td>\n    </tr>\n    <tr>\n      <th>50%</th>\n      <td>30877.500000</td>\n      <td>0.000000</td>\n      <td>72.000000</td>\n      <td>79.000000</td>\n      <td>552.000000</td>\n      <td>310.000000</td>\n      <td>588.000000</td>\n      <td>79.000000</td>\n      <td>278.000000</td>\n      <td>648.000000</td>\n      <td>...</td>\n      <td>0.000000</td>\n      <td>5.981500e+05</td>\n      <td>1013.000000</td>\n      <td>1442.000000</td>\n      <td>1249.000000</td>\n      <td>9.000000</td>\n      <td>36.000000</td>\n      <td>34.000000</td>\n      <td>0.000000</td>\n      <td>281.000000</td>\n    </tr>\n    <tr>\n      <th>75%</th>\n      <td>40933.750000</td>\n      <td>0.000000</td>\n      <td>237.500000</td>\n      <td>451.000000</td>\n      <td>751.500000</td>\n      <td>463.000000</td>\n      <td>800.000000</td>\n      <td>136.000000</td>\n      <td>374.000000</td>\n      <td>863.000000</td>\n      <td>...</td>\n      <td>0.000000</td>\n      <td>8.288000e+05</td>\n      <td>1332.000000</td>\n      <td>1728.000000</td>\n      <td>1648.000000</td>\n      <td>35.000000</td>\n      <td>67.000000</td>\n      <td>65.000000</td>\n      <td>17.000000</td>\n      <td>674.000000</td>\n    </tr>\n    <tr>\n      <th>max</th>\n      <td>195980.000000</td>\n      <td>274.000000</td>\n      <td>3960.000000</td>\n      <td>4744.000000</td>\n      <td>6483.000000</td>\n      <td>4849.000000</td>\n      <td>6767.000000</td>\n      <td>1030.000000</td>\n      <td>2250.000000</td>\n      <td>5037.000000</td>\n      <td>...</td>\n      <td>721.000000</td>\n      <td>2.000001e+06</td>\n      <td>7881.000000</td>\n      <td>3501.000000</td>\n      <td>8830.000000</td>\n      <td>766.000000</td>\n      <td>575.000000</td>\n      <td>1513.000000</td>\n      <td>467.000000</td>\n      <td>6111.000000</td>\n    </tr>\n  </tbody>\n</table>\n<p>8 rows × 33 columns</p>\n</div>"
     },
     "metadata": {},
     "execution_count": 22
    }
   ],
   "source": [
    "demo = acs.pivot(index='geoid', columns='acs_demog_var', values='value')\n",
    "demo.describe()"
   ]
  },
  {
   "cell_type": "code",
   "execution_count": 23,
   "metadata": {},
   "outputs": [
    {
     "output_type": "stream",
     "name": "stdout",
     "text": [
      "<class 'pandas.core.frame.DataFrame'>\nInt64Index: 6339 entries, 360050001001 to 361190055004\nData columns (total 33 columns):\n #   Column                                                       Non-Null Count  Dtype  \n---  ------                                                       --------------  -----  \n 0   aggregate_travel_time_to_work                                362 non-null    float64\n 1   amerindian_pop                                               6339 non-null   float64\n 2   asian_pop                                                    6339 non-null   float64\n 3   black_pop                                                    6339 non-null   float64\n 4   commuters_16_over                                            6339 non-null   float64\n 5   commuters_by_public_transportation                           6339 non-null   float64\n 6   employed_pop                                                 6339 non-null   float64\n 7   families_with_young_children                                 6339 non-null   float64\n 8   family_households                                            6339 non-null   float64\n 9   female_pop                                                   6339 non-null   float64\n 10  hispanic_pop                                                 6339 non-null   float64\n 11  households                                                   6339 non-null   float64\n 12  housing_units                                                6339 non-null   float64\n 13  housing_units_renter_occupied                                6339 non-null   float64\n 14  income_per_capita                                            6266 non-null   float64\n 15  male_pop                                                     6339 non-null   float64\n 16  married_households                                           6339 non-null   float64\n 17  median_age                                                   6272 non-null   float64\n 18  median_income                                                5874 non-null   float64\n 19  median_rent                                                  5779 non-null   float64\n 20  median_year_structure_built                                  6239 non-null   float64\n 21  nonfamily_households                                         6339 non-null   float64\n 22  occupied_housing_units                                       6339 non-null   float64\n 23  other_race_pop                                               6339 non-null   float64\n 24  owner_occupied_housing_units_median_value                    4556 non-null   float64\n 25  pop_16_over                                                  6339 non-null   float64\n 26  renter_occupied_housing_units_paying_cash_median_gross_rent  5807 non-null   float64\n 27  total_pop                                                    6339 non-null   float64\n 28  two_or_more_races_pop                                        6339 non-null   float64\n 29  unemployed_pop                                               6339 non-null   float64\n 30  vacant_housing_units                                         6339 non-null   float64\n 31  vacant_housing_units_for_rent                                6339 non-null   float64\n 32  white_pop                                                    6339 non-null   float64\ndtypes: float64(33)\nmemory usage: 1.6 MB\n"
     ]
    }
   ],
   "source": [
    "demo.info()"
   ]
  },
  {
   "source": [
    "There is missing data in some of the columns"
   ],
   "cell_type": "markdown",
   "metadata": {}
  },
  {
   "source": [
    "demo.columns[acs.isna().any()].tolist()"
   ],
   "cell_type": "code",
   "metadata": {},
   "execution_count": 24,
   "outputs": [
    {
     "output_type": "execute_result",
     "data": {
      "text/plain": [
       "['aggregate_travel_time_to_work',\n",
       " 'income_per_capita',\n",
       " 'median_age',\n",
       " 'median_income',\n",
       " 'median_rent',\n",
       " 'median_year_structure_built',\n",
       " 'owner_occupied_housing_units_median_value',\n",
       " 'renter_occupied_housing_units_paying_cash_median_gross_rent']"
      ]
     },
     "metadata": {},
     "execution_count": 24
    }
   ]
  },
  {
   "source": [
    "Different strategies can be used to fill this data, like using the mean of the total population. Since we have location data, it seems more interesting to fill with mean of the adjacent blocks. We'll exclude the aggregate_travel_time_to_work column since it's mostly empty,"
   ],
   "cell_type": "markdown",
   "metadata": {}
  },
  {
   "cell_type": "code",
   "execution_count": 25,
   "metadata": {},
   "outputs": [],
   "source": [
    "import geopandas\n",
    "import numpy as np\n",
    "block = geopandas.read_file(r'..\\data\\raw\\nyc_cbg_geoms.geojson')\n",
    "block['geoid'] = block['geoid'].astype(np.int64)"
   ]
  },
  {
   "cell_type": "code",
   "execution_count": 26,
   "metadata": {},
   "outputs": [],
   "source": [
    "demo = demo.drop(columns='aggregate_travel_time_to_work')\n",
    "demo = block.merge(demo, on='geoid', how='inner')\n",
    "demo = demo.set_index('geoid')"
   ]
  },
  {
   "cell_type": "code",
   "execution_count": 67,
   "metadata": {},
   "outputs": [],
   "source": [
    "for index, geom in demo.iterrows():\n",
    "    null_cols = geom[geom.isnull()].index.to_list()\n",
    "    if null_cols:\n",
    "        neighbors = demo[~demo.['geometry'].disjoint(geom['geometry'])].index.to_list()\n",
    "        for col in null_cols:\n",
    "            demo.at[index, col] = demo.loc[neighbors, col].mean()"
   ]
  },
  {
   "cell_type": "code",
   "execution_count": 76,
   "metadata": {},
   "outputs": [
    {
     "output_type": "stream",
     "name": "stdout",
     "text": [
      "geometry                                                        0\namerindian_pop                                                  0\nasian_pop                                                       0\nblack_pop                                                       0\ncommuters_16_over                                               0\ncommuters_by_public_transportation                              0\nemployed_pop                                                    0\nfamilies_with_young_children                                    0\nfamily_households                                               0\nfemale_pop                                                      0\nhispanic_pop                                                    0\nhouseholds                                                      0\nhousing_units                                                   0\nhousing_units_renter_occupied                                   0\nincome_per_capita                                               3\nmale_pop                                                        0\nmarried_households                                              0\nmedian_age                                                      3\nmedian_income                                                   5\nmedian_rent                                                    10\nmedian_year_structure_built                                     5\nnonfamily_households                                            0\noccupied_housing_units                                          0\nother_race_pop                                                  0\nowner_occupied_housing_units_median_value                      49\npop_16_over                                                     0\nrenter_occupied_housing_units_paying_cash_median_gross_rent    10\ntotal_pop                                                       0\ntwo_or_more_races_pop                                           0\nunemployed_pop                                                  0\nvacant_housing_units                                            0\nvacant_housing_units_for_rent                                   0\nwhite_pop                                                       0\ndtype: int64\n"
     ]
    },
    {
     "output_type": "execute_result",
     "data": {
      "text/plain": [
       "['income_per_capita',\n",
       " 'median_age',\n",
       " 'median_income',\n",
       " 'median_rent',\n",
       " 'median_year_structure_built',\n",
       " 'owner_occupied_housing_units_median_value',\n",
       " 'renter_occupied_housing_units_paying_cash_median_gross_rent']"
      ]
     },
     "metadata": {},
     "execution_count": 76
    }
   ],
   "source": [
    "print(acs.isna().sum(axis=0))\n",
    "acs.columns[acs.isna().any()].tolist()"
   ]
  },
  {
   "source": [
    "There are still some missing values, we will fill them with the mean value later when we build the pipeline."
   ],
   "cell_type": "markdown",
   "metadata": {}
  }
 ]
}