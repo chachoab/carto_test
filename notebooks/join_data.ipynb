{
 "metadata": {
  "language_info": {
   "codemirror_mode": {
    "name": "ipython",
    "version": 3
   },
   "file_extension": ".py",
   "mimetype": "text/x-python",
   "name": "python",
   "nbconvert_exporter": "python",
   "pygments_lexer": "ipython3",
   "version": 3
  },
  "orig_nbformat": 2
 },
 "nbformat": 4,
 "nbformat_minor": 2,
 "cells": [
  {
   "source": [
    "# Joining data with PostGIS\n",
    "\n",
    "The ~40 seconds it takes to complete the spatial join multiplied by 75 files means almost an hour of computing time. It's probably better to create a PostGIS database to take care of joining the data.\n",
    "\n",
    "After setting up the database I create d tables for the NYC Taxi, the ACS demographic data and the block data datasets.\n",
    "\n",
    "## NYC Taxi Data\n",
    "\n",
    "This dataset was uploaded to the database using the psql \\copy command. An addtional geometry column was created for the pickup location and populated using the script in src/data/read_trip_data"
   ],
   "cell_type": "markdown",
   "metadata": {}
  },
  {
   "source": [
    "    CREATE TABLE public.trip\n",
    "        (\n",
    "            \"VendorID\" text COLLATE pg_catalog.\"default\",\n",
    "            tpep_pickup_datetime timestamp without time zone,\n",
    "            tpep_dropoff_datetime timestamp without time zone,\n",
    "            passenger_count bigint,\n",
    "            trip_distance real,\n",
    "            pickup_longitude real,\n",
    "            pickup_latitude real,\n",
    "            \"RateCodeID\" text COLLATE pg_catalog.\"default\",\n",
    "            store_and_fwd_flag text COLLATE pg_catalog.\"default\",\n",
    "            dropoff_longitude real,\n",
    "            dropoff_latitude real,\n",
    "            payment_type text COLLATE pg_catalog.\"default\",\n",
    "            fare_amount real,\n",
    "            extra real,\n",
    "            mta_tax text COLLATE pg_catalog.\"default\",\n",
    "            tip_amount real,\n",
    "            tolls_amount real,\n",
    "            improvement_surcharge text COLLATE pg_catalog.\"default\",\n",
    "            total_amount real\n",
    "        )"
   ],
   "cell_type": "markdown",
   "metadata": {}
  },
  {
   "source": [
    "## ACS Data\n",
    "\n",
    "To populate this table I used the script in src/data/read_demo_data.py, that completes missing data with the mean values of the adjacent blocks when possible and creates the table in the database\n",
    "\n",
    "    CREATE TABLE public.demo\n",
    "    (\n",
    "        geoid bigint,\n",
    "        amerindian_pop double precision,\n",
    "        asian_pop double precision,\n",
    "        black_pop double precision,\n",
    "        commuters_16_over double precision,\n",
    "        commuters_by_public_transportation double precision,\n",
    "        employed_pop double precision,\n",
    "        families_with_young_children double precision,\n",
    "        family_households double precision,\n",
    "        female_pop double precision,\n",
    "        hispanic_pop double precision,\n",
    "        households double precision,\n",
    "        housing_units double precision,\n",
    "        housing_units_renter_occupied double precision,\n",
    "        income_per_capita double precision,\n",
    "        male_pop double precision,\n",
    "        married_households double precision,\n",
    "        median_age double precision,\n",
    "        median_income double precision,\n",
    "        median_rent double precision,\n",
    "        median_year_structure_built double precision,\n",
    "        nonfamily_households double precision,\n",
    "        occupied_housing_units double precision,\n",
    "        other_race_pop double precision,\n",
    "        owner_occupied_housing_units_median_value double precision,\n",
    "        pop_16_over double precision,\n",
    "        renter_occupied_housing_units_paying_cash_median_gross_rent double precision,\n",
    "        total_pop double precision,\n",
    "        two_or_more_races_pop double precision,\n",
    "        unemployed_pop double precision,\n",
    "        vacant_housing_units double precision,\n",
    "        vacant_housing_units_for_rent double precision,\n",
    "        white_pop double precision\n",
    "    )\n",
    "\n",
    "## Block data\n",
    "\n",
    "The script used  to feed the database can be found at src/data/read_block_data.\n",
    "\n",
    "    CREATE TABLE public.block\n",
    "    (\n",
    "        index bigint,\n",
    "        geoid text COLLATE pg_catalog.\"default\",\n",
    "        geometry geometry(Geometry,4326)\n",
    "    )"
   ],
   "cell_type": "markdown",
   "metadata": {}
  },
  {
   "cell_type": "code",
   "execution_count": null,
   "metadata": {},
   "outputs": [],
   "source": []
  }
 ]
}