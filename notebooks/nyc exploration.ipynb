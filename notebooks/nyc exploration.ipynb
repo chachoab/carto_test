{
 "metadata": {
  "language_info": {
   "codemirror_mode": {
    "name": "ipython",
    "version": 3
   },
   "file_extension": ".py",
   "mimetype": "text/x-python",
   "name": "python",
   "nbconvert_exporter": "python",
   "pygments_lexer": "ipython3",
   "version": "3.8.3-final"
  },
  "orig_nbformat": 2,
  "kernelspec": {
   "name": "Python 3.8.3 64-bit ('base': conda)",
   "display_name": "Python 3.8.3 64-bit ('base': conda)",
   "metadata": {
    "interpreter": {
     "hash": "955743811bc594aabac75cc4ba8ffa1c81ba93c8404f266cb6196f65bda37feb"
    }
   }
  }
 },
 "nbformat": 4,
 "nbformat_minor": 2,
 "cells": [
  {
   "source": [
    "# Optimizing Data Acquisition\n",
    "\n",
    "Since this is a pretty extensive dataset, I'll explore jsut one subset of the data. Let's see what can be done to reduce size"
   ],
   "cell_type": "markdown",
   "metadata": {}
  },
  {
   "cell_type": "code",
   "execution_count": 49,
   "metadata": {},
   "outputs": [
    {
     "output_type": "execute_result",
     "data": {
      "text/plain": [
       "   VendorID tpep_pickup_datetime tpep_dropoff_datetime  passenger_count  \\\n",
       "0         2  2015-01-15 19:05:39   2015-01-15 19:23:42                1   \n",
       "1         1  2015-01-10 20:33:38   2015-01-10 20:53:28                1   \n",
       "2         1  2015-01-10 20:33:38   2015-01-10 20:43:41                1   \n",
       "3         1  2015-01-10 20:33:39   2015-01-10 20:35:31                1   \n",
       "4         1  2015-01-10 20:33:39   2015-01-10 20:52:58                1   \n",
       "\n",
       "   trip_distance  pickup_longitude  pickup_latitude  RateCodeID  \\\n",
       "0           1.59        -73.993896        40.750111           1   \n",
       "1           3.30        -74.001648        40.724243           1   \n",
       "2           1.80        -73.963341        40.802788           1   \n",
       "3           0.50        -74.009087        40.713818           1   \n",
       "4           3.00        -73.971176        40.762428           1   \n",
       "\n",
       "  store_and_fwd_flag  dropoff_longitude  dropoff_latitude  payment_type  \\\n",
       "0                  N         -73.974785         40.750618             1   \n",
       "1                  N         -73.994415         40.759109             1   \n",
       "2                  N         -73.951820         40.824413             2   \n",
       "3                  N         -74.004326         40.719986             2   \n",
       "4                  N         -74.004181         40.742653             2   \n",
       "\n",
       "   fare_amount  extra  mta_tax  tip_amount  tolls_amount  \\\n",
       "0         12.0    1.0      0.5        3.25           0.0   \n",
       "1         14.5    0.5      0.5        2.00           0.0   \n",
       "2          9.5    0.5      0.5        0.00           0.0   \n",
       "3          3.5    0.5      0.5        0.00           0.0   \n",
       "4         15.0    0.5      0.5        0.00           0.0   \n",
       "\n",
       "   improvement_surcharge  total_amount  \n",
       "0                    0.3         17.05  \n",
       "1                    0.3         17.80  \n",
       "2                    0.3         10.80  \n",
       "3                    0.3          4.80  \n",
       "4                    0.3         16.30  "
      ],
      "text/html": "<div>\n<style scoped>\n    .dataframe tbody tr th:only-of-type {\n        vertical-align: middle;\n    }\n\n    .dataframe tbody tr th {\n        vertical-align: top;\n    }\n\n    .dataframe thead th {\n        text-align: right;\n    }\n</style>\n<table border=\"1\" class=\"dataframe\">\n  <thead>\n    <tr style=\"text-align: right;\">\n      <th></th>\n      <th>VendorID</th>\n      <th>tpep_pickup_datetime</th>\n      <th>tpep_dropoff_datetime</th>\n      <th>passenger_count</th>\n      <th>trip_distance</th>\n      <th>pickup_longitude</th>\n      <th>pickup_latitude</th>\n      <th>RateCodeID</th>\n      <th>store_and_fwd_flag</th>\n      <th>dropoff_longitude</th>\n      <th>dropoff_latitude</th>\n      <th>payment_type</th>\n      <th>fare_amount</th>\n      <th>extra</th>\n      <th>mta_tax</th>\n      <th>tip_amount</th>\n      <th>tolls_amount</th>\n      <th>improvement_surcharge</th>\n      <th>total_amount</th>\n    </tr>\n  </thead>\n  <tbody>\n    <tr>\n      <th>0</th>\n      <td>2</td>\n      <td>2015-01-15 19:05:39</td>\n      <td>2015-01-15 19:23:42</td>\n      <td>1</td>\n      <td>1.59</td>\n      <td>-73.993896</td>\n      <td>40.750111</td>\n      <td>1</td>\n      <td>N</td>\n      <td>-73.974785</td>\n      <td>40.750618</td>\n      <td>1</td>\n      <td>12.0</td>\n      <td>1.0</td>\n      <td>0.5</td>\n      <td>3.25</td>\n      <td>0.0</td>\n      <td>0.3</td>\n      <td>17.05</td>\n    </tr>\n    <tr>\n      <th>1</th>\n      <td>1</td>\n      <td>2015-01-10 20:33:38</td>\n      <td>2015-01-10 20:53:28</td>\n      <td>1</td>\n      <td>3.30</td>\n      <td>-74.001648</td>\n      <td>40.724243</td>\n      <td>1</td>\n      <td>N</td>\n      <td>-73.994415</td>\n      <td>40.759109</td>\n      <td>1</td>\n      <td>14.5</td>\n      <td>0.5</td>\n      <td>0.5</td>\n      <td>2.00</td>\n      <td>0.0</td>\n      <td>0.3</td>\n      <td>17.80</td>\n    </tr>\n    <tr>\n      <th>2</th>\n      <td>1</td>\n      <td>2015-01-10 20:33:38</td>\n      <td>2015-01-10 20:43:41</td>\n      <td>1</td>\n      <td>1.80</td>\n      <td>-73.963341</td>\n      <td>40.802788</td>\n      <td>1</td>\n      <td>N</td>\n      <td>-73.951820</td>\n      <td>40.824413</td>\n      <td>2</td>\n      <td>9.5</td>\n      <td>0.5</td>\n      <td>0.5</td>\n      <td>0.00</td>\n      <td>0.0</td>\n      <td>0.3</td>\n      <td>10.80</td>\n    </tr>\n    <tr>\n      <th>3</th>\n      <td>1</td>\n      <td>2015-01-10 20:33:39</td>\n      <td>2015-01-10 20:35:31</td>\n      <td>1</td>\n      <td>0.50</td>\n      <td>-74.009087</td>\n      <td>40.713818</td>\n      <td>1</td>\n      <td>N</td>\n      <td>-74.004326</td>\n      <td>40.719986</td>\n      <td>2</td>\n      <td>3.5</td>\n      <td>0.5</td>\n      <td>0.5</td>\n      <td>0.00</td>\n      <td>0.0</td>\n      <td>0.3</td>\n      <td>4.80</td>\n    </tr>\n    <tr>\n      <th>4</th>\n      <td>1</td>\n      <td>2015-01-10 20:33:39</td>\n      <td>2015-01-10 20:52:58</td>\n      <td>1</td>\n      <td>3.00</td>\n      <td>-73.971176</td>\n      <td>40.762428</td>\n      <td>1</td>\n      <td>N</td>\n      <td>-74.004181</td>\n      <td>40.742653</td>\n      <td>2</td>\n      <td>15.0</td>\n      <td>0.5</td>\n      <td>0.5</td>\n      <td>0.00</td>\n      <td>0.0</td>\n      <td>0.3</td>\n      <td>16.30</td>\n    </tr>\n  </tbody>\n</table>\n</div>"
     },
     "metadata": {},
     "execution_count": 49
    }
   ],
   "source": [
    "import pandas as pd\n",
    "ny = pd.read_csv(r'..\\data\\raw\\taxi data\\yellow_tripdata_2015-01_00', parse_dates=['tpep_pickup_datetime', 'tpep_dropoff_datetime'])\n",
    "ny.head()"
   ]
  },
  {
   "cell_type": "code",
   "execution_count": 50,
   "metadata": {},
   "outputs": [
    {
     "output_type": "stream",
     "name": "stdout",
     "text": [
      "<class 'pandas.core.frame.DataFrame'>\nRangeIndex: 499999 entries, 0 to 499998\nData columns (total 19 columns):\n #   Column                 Non-Null Count   Dtype         \n---  ------                 --------------   -----         \n 0   VendorID               499999 non-null  int64         \n 1   tpep_pickup_datetime   499999 non-null  datetime64[ns]\n 2   tpep_dropoff_datetime  499999 non-null  datetime64[ns]\n 3   passenger_count        499999 non-null  int64         \n 4   trip_distance          499999 non-null  float64       \n 5   pickup_longitude       499999 non-null  float64       \n 6   pickup_latitude        499999 non-null  float64       \n 7   RateCodeID             499999 non-null  int64         \n 8   store_and_fwd_flag     499999 non-null  object        \n 9   dropoff_longitude      499999 non-null  float64       \n 10  dropoff_latitude       499999 non-null  float64       \n 11  payment_type           499999 non-null  int64         \n 12  fare_amount            499999 non-null  float64       \n 13  extra                  499999 non-null  float64       \n 14  mta_tax                499999 non-null  float64       \n 15  tip_amount             499999 non-null  float64       \n 16  tolls_amount           499999 non-null  float64       \n 17  improvement_surcharge  499999 non-null  float64       \n 18  total_amount           499999 non-null  float64       \ndtypes: datetime64[ns](2), float64(12), int64(4), object(1)\nmemory usage: 72.5+ MB\n"
     ]
    }
   ],
   "source": [
    "ny.info()"
   ]
  },
  {
   "source": [
    "I'll try to reduce the footprint by selecting the data types used for each field."
   ],
   "cell_type": "markdown",
   "metadata": {}
  },
  {
   "cell_type": "code",
   "execution_count": 51,
   "metadata": {},
   "outputs": [
    {
     "output_type": "stream",
     "name": "stdout",
     "text": [
      "<class 'pandas.core.frame.DataFrame'>\nRangeIndex: 499999 entries, 0 to 499998\nData columns (total 19 columns):\n #   Column                 Non-Null Count   Dtype         \n---  ------                 --------------   -----         \n 0   VendorID               499999 non-null  category      \n 1   tpep_pickup_datetime   499999 non-null  datetime64[ns]\n 2   tpep_dropoff_datetime  499999 non-null  datetime64[ns]\n 3   passenger_count        499999 non-null  int8          \n 4   trip_distance          499999 non-null  float32       \n 5   pickup_longitude       499999 non-null  float32       \n 6   pickup_latitude        499999 non-null  float32       \n 7   RateCodeID             499999 non-null  category      \n 8   store_and_fwd_flag     499999 non-null  category      \n 9   dropoff_longitude      499999 non-null  float32       \n 10  dropoff_latitude       499999 non-null  float32       \n 11  payment_type           499999 non-null  category      \n 12  fare_amount            499999 non-null  float32       \n 13  extra                  499999 non-null  float32       \n 14  mta_tax                499999 non-null  category      \n 15  tip_amount             499999 non-null  float32       \n 16  tolls_amount           499999 non-null  float32       \n 17  improvement_surcharge  499999 non-null  category      \n 18  total_amount           499999 non-null  float32       \ndtypes: category(6), datetime64[ns](2), float32(10), int8(1)\nmemory usage: 30.0 MB\n"
     ]
    }
   ],
   "source": [
    "dtype = {\n",
    "    'VendorID': 'category',\n",
    "    'passenger_count': 'int8',\n",
    "    'trip_distance': 'float32',\n",
    "    'pickup_longitude': 'float32',\n",
    "    'pickup_latitude': 'float32',\n",
    "    'dropoff_longitude': 'float32',\n",
    "    'dropoff_latitude': 'float32',\n",
    "    'RateCodeID': 'category',\n",
    "    'store_and_fwd_flag': 'category',\n",
    "    'payment_type': 'category',\n",
    "    'fare_amount': 'float32',\n",
    "    'extra': 'float32',\n",
    "    'mta_tax': 'category',\n",
    "    'tip_amount': 'float32',\n",
    "    'tolls_amount': 'float32',\n",
    "    'improvement_surcharge': 'category',\n",
    "    'total_amount': 'float32'\n",
    "}\n",
    "\n",
    "ny = pd.read_csv(r'..\\data\\raw\\taxi data\\yellow_tripdata_2015-01_00', dtype=dtype, parse_dates=['tpep_pickup_datetime', 'tpep_dropoff_datetime'])\n",
    "ny.info()"
   ]
  },
  {
   "source": [
    "We have gone from 72.5 MB to to 28.1 MB."
   ],
   "cell_type": "markdown",
   "metadata": {}
  },
  {
   "source": [
    "# Cleaning Data\n",
    "\n",
    "Now we'll try to find inconsistencies in the data. Let's look at its description first."
   ],
   "cell_type": "markdown",
   "metadata": {}
  },
  {
   "cell_type": "code",
   "execution_count": 52,
   "metadata": {},
   "outputs": [
    {
     "output_type": "execute_result",
     "data": {
      "text/plain": [
       "  VendorID tpep_pickup_datetime tpep_dropoff_datetime  passenger_count  \\\n",
       "0        2  2015-01-15 19:05:39   2015-01-15 19:23:42                1   \n",
       "1        1  2015-01-10 20:33:38   2015-01-10 20:53:28                1   \n",
       "2        1  2015-01-10 20:33:38   2015-01-10 20:43:41                1   \n",
       "3        1  2015-01-10 20:33:39   2015-01-10 20:35:31                1   \n",
       "4        1  2015-01-10 20:33:39   2015-01-10 20:52:58                1   \n",
       "\n",
       "   trip_distance  pickup_longitude  pickup_latitude RateCodeID  \\\n",
       "0           1.59        -73.993896        40.750111          1   \n",
       "1           3.30        -74.001648        40.724243          1   \n",
       "2           1.80        -73.963341        40.802788          1   \n",
       "3           0.50        -74.009087        40.713818          1   \n",
       "4           3.00        -73.971176        40.762428          1   \n",
       "\n",
       "  store_and_fwd_flag  dropoff_longitude  dropoff_latitude payment_type  \\\n",
       "0                  N         -73.974785         40.750618            1   \n",
       "1                  N         -73.994415         40.759109            1   \n",
       "2                  N         -73.951820         40.824413            2   \n",
       "3                  N         -74.004326         40.719986            2   \n",
       "4                  N         -74.004181         40.742653            2   \n",
       "\n",
       "   fare_amount  extra mta_tax  tip_amount  tolls_amount improvement_surcharge  \\\n",
       "0         12.0    1.0     0.5        3.25           0.0                   0.3   \n",
       "1         14.5    0.5     0.5        2.00           0.0                   0.3   \n",
       "2          9.5    0.5     0.5        0.00           0.0                   0.3   \n",
       "3          3.5    0.5     0.5        0.00           0.0                   0.3   \n",
       "4         15.0    0.5     0.5        0.00           0.0                   0.3   \n",
       "\n",
       "   total_amount  \n",
       "0     17.049999  \n",
       "1     17.799999  \n",
       "2     10.800000  \n",
       "3      4.800000  \n",
       "4     16.299999  "
      ],
      "text/html": "<div>\n<style scoped>\n    .dataframe tbody tr th:only-of-type {\n        vertical-align: middle;\n    }\n\n    .dataframe tbody tr th {\n        vertical-align: top;\n    }\n\n    .dataframe thead th {\n        text-align: right;\n    }\n</style>\n<table border=\"1\" class=\"dataframe\">\n  <thead>\n    <tr style=\"text-align: right;\">\n      <th></th>\n      <th>VendorID</th>\n      <th>tpep_pickup_datetime</th>\n      <th>tpep_dropoff_datetime</th>\n      <th>passenger_count</th>\n      <th>trip_distance</th>\n      <th>pickup_longitude</th>\n      <th>pickup_latitude</th>\n      <th>RateCodeID</th>\n      <th>store_and_fwd_flag</th>\n      <th>dropoff_longitude</th>\n      <th>dropoff_latitude</th>\n      <th>payment_type</th>\n      <th>fare_amount</th>\n      <th>extra</th>\n      <th>mta_tax</th>\n      <th>tip_amount</th>\n      <th>tolls_amount</th>\n      <th>improvement_surcharge</th>\n      <th>total_amount</th>\n    </tr>\n  </thead>\n  <tbody>\n    <tr>\n      <th>0</th>\n      <td>2</td>\n      <td>2015-01-15 19:05:39</td>\n      <td>2015-01-15 19:23:42</td>\n      <td>1</td>\n      <td>1.59</td>\n      <td>-73.993896</td>\n      <td>40.750111</td>\n      <td>1</td>\n      <td>N</td>\n      <td>-73.974785</td>\n      <td>40.750618</td>\n      <td>1</td>\n      <td>12.0</td>\n      <td>1.0</td>\n      <td>0.5</td>\n      <td>3.25</td>\n      <td>0.0</td>\n      <td>0.3</td>\n      <td>17.049999</td>\n    </tr>\n    <tr>\n      <th>1</th>\n      <td>1</td>\n      <td>2015-01-10 20:33:38</td>\n      <td>2015-01-10 20:53:28</td>\n      <td>1</td>\n      <td>3.30</td>\n      <td>-74.001648</td>\n      <td>40.724243</td>\n      <td>1</td>\n      <td>N</td>\n      <td>-73.994415</td>\n      <td>40.759109</td>\n      <td>1</td>\n      <td>14.5</td>\n      <td>0.5</td>\n      <td>0.5</td>\n      <td>2.00</td>\n      <td>0.0</td>\n      <td>0.3</td>\n      <td>17.799999</td>\n    </tr>\n    <tr>\n      <th>2</th>\n      <td>1</td>\n      <td>2015-01-10 20:33:38</td>\n      <td>2015-01-10 20:43:41</td>\n      <td>1</td>\n      <td>1.80</td>\n      <td>-73.963341</td>\n      <td>40.802788</td>\n      <td>1</td>\n      <td>N</td>\n      <td>-73.951820</td>\n      <td>40.824413</td>\n      <td>2</td>\n      <td>9.5</td>\n      <td>0.5</td>\n      <td>0.5</td>\n      <td>0.00</td>\n      <td>0.0</td>\n      <td>0.3</td>\n      <td>10.800000</td>\n    </tr>\n    <tr>\n      <th>3</th>\n      <td>1</td>\n      <td>2015-01-10 20:33:39</td>\n      <td>2015-01-10 20:35:31</td>\n      <td>1</td>\n      <td>0.50</td>\n      <td>-74.009087</td>\n      <td>40.713818</td>\n      <td>1</td>\n      <td>N</td>\n      <td>-74.004326</td>\n      <td>40.719986</td>\n      <td>2</td>\n      <td>3.5</td>\n      <td>0.5</td>\n      <td>0.5</td>\n      <td>0.00</td>\n      <td>0.0</td>\n      <td>0.3</td>\n      <td>4.800000</td>\n    </tr>\n    <tr>\n      <th>4</th>\n      <td>1</td>\n      <td>2015-01-10 20:33:39</td>\n      <td>2015-01-10 20:52:58</td>\n      <td>1</td>\n      <td>3.00</td>\n      <td>-73.971176</td>\n      <td>40.762428</td>\n      <td>1</td>\n      <td>N</td>\n      <td>-74.004181</td>\n      <td>40.742653</td>\n      <td>2</td>\n      <td>15.0</td>\n      <td>0.5</td>\n      <td>0.5</td>\n      <td>0.00</td>\n      <td>0.0</td>\n      <td>0.3</td>\n      <td>16.299999</td>\n    </tr>\n  </tbody>\n</table>\n</div>"
     },
     "metadata": {},
     "execution_count": 52
    }
   ],
   "source": [
    "ny.head()"
   ]
  },
  {
   "cell_type": "code",
   "execution_count": 53,
   "metadata": {},
   "outputs": [
    {
     "output_type": "stream",
     "name": "stdout",
     "text": [
      "(499999, 19)\n"
     ]
    },
    {
     "output_type": "execute_result",
     "data": {
      "text/plain": [
       "       passenger_count  trip_distance  pickup_longitude  pickup_latitude  \\\n",
       "count    499999.000000  499999.000000     499999.000000    499999.000000   \n",
       "mean          1.678109       3.019197        -72.472382        39.960388   \n",
       "std           1.334983     136.910843         10.150945         5.592647   \n",
       "min           0.000000       0.000000        -87.451874         0.000000   \n",
       "25%           1.000000       1.000000        -73.991669        40.735725   \n",
       "50%           1.000000       1.660000        -73.981567        40.753300   \n",
       "75%           2.000000       3.000000        -73.966606        40.767715   \n",
       "max           9.000000   92000.898438          0.000000        42.294155   \n",
       "\n",
       "       dropoff_longitude  dropoff_latitude    fare_amount          extra  \\\n",
       "count      499999.000000     499999.000000  499999.000000  499999.000000   \n",
       "mean          -72.518303         39.985832      11.872193       0.314752   \n",
       "std             9.991468          5.503415      10.134053       0.367454   \n",
       "min           -86.731705          0.000000    -138.899994      -1.000000   \n",
       "25%           -73.991219         40.734528       6.500000       0.000000   \n",
       "50%           -73.979820         40.753757       9.000000       0.000000   \n",
       "75%           -73.962524         40.768940      13.500000       0.500000   \n",
       "max             0.000000         49.194656     900.000000       7.000000   \n",
       "\n",
       "          tip_amount   tolls_amount   total_amount  \n",
       "count  499999.000000  499999.000000  499999.000000  \n",
       "mean        1.542951       0.241650      14.805460  \n",
       "std         2.513547       1.224226      12.301260  \n",
       "min       -81.000000      -5.330000    -139.699997  \n",
       "25%         0.000000       0.000000       8.160000  \n",
       "50%         1.000000       0.000000      11.150000  \n",
       "75%         2.060000       0.000000      16.299999  \n",
       "max       750.000000      95.330002     900.299988  "
      ],
      "text/html": "<div>\n<style scoped>\n    .dataframe tbody tr th:only-of-type {\n        vertical-align: middle;\n    }\n\n    .dataframe tbody tr th {\n        vertical-align: top;\n    }\n\n    .dataframe thead th {\n        text-align: right;\n    }\n</style>\n<table border=\"1\" class=\"dataframe\">\n  <thead>\n    <tr style=\"text-align: right;\">\n      <th></th>\n      <th>passenger_count</th>\n      <th>trip_distance</th>\n      <th>pickup_longitude</th>\n      <th>pickup_latitude</th>\n      <th>dropoff_longitude</th>\n      <th>dropoff_latitude</th>\n      <th>fare_amount</th>\n      <th>extra</th>\n      <th>tip_amount</th>\n      <th>tolls_amount</th>\n      <th>total_amount</th>\n    </tr>\n  </thead>\n  <tbody>\n    <tr>\n      <th>count</th>\n      <td>499999.000000</td>\n      <td>499999.000000</td>\n      <td>499999.000000</td>\n      <td>499999.000000</td>\n      <td>499999.000000</td>\n      <td>499999.000000</td>\n      <td>499999.000000</td>\n      <td>499999.000000</td>\n      <td>499999.000000</td>\n      <td>499999.000000</td>\n      <td>499999.000000</td>\n    </tr>\n    <tr>\n      <th>mean</th>\n      <td>1.678109</td>\n      <td>3.019197</td>\n      <td>-72.472382</td>\n      <td>39.960388</td>\n      <td>-72.518303</td>\n      <td>39.985832</td>\n      <td>11.872193</td>\n      <td>0.314752</td>\n      <td>1.542951</td>\n      <td>0.241650</td>\n      <td>14.805460</td>\n    </tr>\n    <tr>\n      <th>std</th>\n      <td>1.334983</td>\n      <td>136.910843</td>\n      <td>10.150945</td>\n      <td>5.592647</td>\n      <td>9.991468</td>\n      <td>5.503415</td>\n      <td>10.134053</td>\n      <td>0.367454</td>\n      <td>2.513547</td>\n      <td>1.224226</td>\n      <td>12.301260</td>\n    </tr>\n    <tr>\n      <th>min</th>\n      <td>0.000000</td>\n      <td>0.000000</td>\n      <td>-87.451874</td>\n      <td>0.000000</td>\n      <td>-86.731705</td>\n      <td>0.000000</td>\n      <td>-138.899994</td>\n      <td>-1.000000</td>\n      <td>-81.000000</td>\n      <td>-5.330000</td>\n      <td>-139.699997</td>\n    </tr>\n    <tr>\n      <th>25%</th>\n      <td>1.000000</td>\n      <td>1.000000</td>\n      <td>-73.991669</td>\n      <td>40.735725</td>\n      <td>-73.991219</td>\n      <td>40.734528</td>\n      <td>6.500000</td>\n      <td>0.000000</td>\n      <td>0.000000</td>\n      <td>0.000000</td>\n      <td>8.160000</td>\n    </tr>\n    <tr>\n      <th>50%</th>\n      <td>1.000000</td>\n      <td>1.660000</td>\n      <td>-73.981567</td>\n      <td>40.753300</td>\n      <td>-73.979820</td>\n      <td>40.753757</td>\n      <td>9.000000</td>\n      <td>0.000000</td>\n      <td>1.000000</td>\n      <td>0.000000</td>\n      <td>11.150000</td>\n    </tr>\n    <tr>\n      <th>75%</th>\n      <td>2.000000</td>\n      <td>3.000000</td>\n      <td>-73.966606</td>\n      <td>40.767715</td>\n      <td>-73.962524</td>\n      <td>40.768940</td>\n      <td>13.500000</td>\n      <td>0.500000</td>\n      <td>2.060000</td>\n      <td>0.000000</td>\n      <td>16.299999</td>\n    </tr>\n    <tr>\n      <th>max</th>\n      <td>9.000000</td>\n      <td>92000.898438</td>\n      <td>0.000000</td>\n      <td>42.294155</td>\n      <td>0.000000</td>\n      <td>49.194656</td>\n      <td>900.000000</td>\n      <td>7.000000</td>\n      <td>750.000000</td>\n      <td>95.330002</td>\n      <td>900.299988</td>\n    </tr>\n  </tbody>\n</table>\n</div>"
     },
     "metadata": {},
     "execution_count": 53
    }
   ],
   "source": [
    "print(ny.shape)\n",
    "ny.describe()"
   ]
  },
  {
   "source": [
    "It seems there are negative values in values related to charges (total_amount, extra...)."
   ],
   "cell_type": "markdown",
   "metadata": {}
  },
  {
   "cell_type": "code",
   "execution_count": 54,
   "metadata": {},
   "outputs": [
    {
     "output_type": "stream",
     "name": "stdout",
     "text": [
      "(158, 19)\n"
     ]
    },
    {
     "output_type": "execute_result",
     "data": {
      "text/plain": [
       "      VendorID tpep_pickup_datetime tpep_dropoff_datetime  passenger_count  \\\n",
       "3831         2  2015-01-17 22:40:27   2015-01-17 22:43:04                1   \n",
       "4924         2  2015-01-15 17:33:24   2015-01-15 17:33:31                2   \n",
       "10046        2  2015-01-16 16:00:45   2015-01-16 16:00:53                1   \n",
       "16703        2  2015-01-31 23:38:52   2015-01-31 23:38:54                2   \n",
       "19953        2  2015-01-10 02:23:53   2015-01-10 02:23:58                2   \n",
       "22989        2  2015-01-14 11:52:09   2015-01-14 11:52:20                1   \n",
       "23879        2  2015-01-03 02:01:25   2015-01-03 02:01:54                1   \n",
       "26582        2  2015-01-12 15:07:29   2015-01-12 15:07:35                1   \n",
       "27172        2  2015-01-06 14:07:25   2015-01-06 14:08:27                1   \n",
       "30188        2  2015-01-10 21:10:20   2015-01-10 21:12:39                1   \n",
       "\n",
       "       trip_distance  pickup_longitude  pickup_latitude RateCodeID  \\\n",
       "3831            0.11        -74.002357        40.739826          1   \n",
       "4924            0.00        -73.982567        40.739799          1   \n",
       "10046           0.00        -73.937721        40.758194          1   \n",
       "16703           0.00          0.000000         0.000000          2   \n",
       "19953           0.00          0.000000         0.000000          5   \n",
       "22989           0.00        -73.789955        40.646946          2   \n",
       "23879           0.03        -73.953407        40.811150          1   \n",
       "26582           0.00          0.000000         0.000000          2   \n",
       "27172           0.03        -73.994560        40.740318          1   \n",
       "30188           0.03        -73.986328        40.755280          1   \n",
       "\n",
       "      store_and_fwd_flag  dropoff_longitude  dropoff_latitude payment_type  \\\n",
       "3831                   N         -74.001114         40.741108            4   \n",
       "4924                   N         -73.982567         40.739799            3   \n",
       "10046                  N         -73.937721         40.758194            3   \n",
       "16703                  N           0.000000          0.000000            2   \n",
       "19953                  N           0.000000          0.000000            1   \n",
       "22989                  N           0.000000          0.000000            3   \n",
       "23879                  N         -73.953751         40.811302            2   \n",
       "26582                  N           0.000000          0.000000            2   \n",
       "27172                  N         -73.995331         40.740952            4   \n",
       "30188                  N         -73.985420         40.755089            4   \n",
       "\n",
       "       fare_amount  extra mta_tax  tip_amount  tolls_amount  \\\n",
       "3831          -3.5   -0.5    -0.5        0.00          0.00   \n",
       "4924          -2.5   -1.0    -0.5       -0.70          0.00   \n",
       "10046         -2.5   -1.0    -0.5        0.00          0.00   \n",
       "16703        -52.0    0.0    -0.5        0.00          0.00   \n",
       "19953         -6.8    0.0       0       -1.00          0.00   \n",
       "22989        -52.0    0.0    -0.5      -14.33         -5.33   \n",
       "23879         -2.5   -0.5    -0.5        0.00          0.00   \n",
       "26582        -52.0    0.0    -0.5        0.00          0.00   \n",
       "27172         -2.5    0.0    -0.5        0.00          0.00   \n",
       "30188         -3.5   -0.5    -0.5        0.00          0.00   \n",
       "\n",
       "      improvement_surcharge  total_amount  \n",
       "3831                    0.3     -4.800000  \n",
       "4924                    0.3     -5.000000  \n",
       "10046                   0.3     -4.300000  \n",
       "16703                   0.3    -52.799999  \n",
       "19953                   0.3     -8.100000  \n",
       "22989                   0.3    -72.459999  \n",
       "23879                   0.3     -3.800000  \n",
       "26582                   0.3    -52.799999  \n",
       "27172                   0.3     -3.300000  \n",
       "30188                   0.3     -4.800000  "
      ],
      "text/html": "<div>\n<style scoped>\n    .dataframe tbody tr th:only-of-type {\n        vertical-align: middle;\n    }\n\n    .dataframe tbody tr th {\n        vertical-align: top;\n    }\n\n    .dataframe thead th {\n        text-align: right;\n    }\n</style>\n<table border=\"1\" class=\"dataframe\">\n  <thead>\n    <tr style=\"text-align: right;\">\n      <th></th>\n      <th>VendorID</th>\n      <th>tpep_pickup_datetime</th>\n      <th>tpep_dropoff_datetime</th>\n      <th>passenger_count</th>\n      <th>trip_distance</th>\n      <th>pickup_longitude</th>\n      <th>pickup_latitude</th>\n      <th>RateCodeID</th>\n      <th>store_and_fwd_flag</th>\n      <th>dropoff_longitude</th>\n      <th>dropoff_latitude</th>\n      <th>payment_type</th>\n      <th>fare_amount</th>\n      <th>extra</th>\n      <th>mta_tax</th>\n      <th>tip_amount</th>\n      <th>tolls_amount</th>\n      <th>improvement_surcharge</th>\n      <th>total_amount</th>\n    </tr>\n  </thead>\n  <tbody>\n    <tr>\n      <th>3831</th>\n      <td>2</td>\n      <td>2015-01-17 22:40:27</td>\n      <td>2015-01-17 22:43:04</td>\n      <td>1</td>\n      <td>0.11</td>\n      <td>-74.002357</td>\n      <td>40.739826</td>\n      <td>1</td>\n      <td>N</td>\n      <td>-74.001114</td>\n      <td>40.741108</td>\n      <td>4</td>\n      <td>-3.5</td>\n      <td>-0.5</td>\n      <td>-0.5</td>\n      <td>0.00</td>\n      <td>0.00</td>\n      <td>0.3</td>\n      <td>-4.800000</td>\n    </tr>\n    <tr>\n      <th>4924</th>\n      <td>2</td>\n      <td>2015-01-15 17:33:24</td>\n      <td>2015-01-15 17:33:31</td>\n      <td>2</td>\n      <td>0.00</td>\n      <td>-73.982567</td>\n      <td>40.739799</td>\n      <td>1</td>\n      <td>N</td>\n      <td>-73.982567</td>\n      <td>40.739799</td>\n      <td>3</td>\n      <td>-2.5</td>\n      <td>-1.0</td>\n      <td>-0.5</td>\n      <td>-0.70</td>\n      <td>0.00</td>\n      <td>0.3</td>\n      <td>-5.000000</td>\n    </tr>\n    <tr>\n      <th>10046</th>\n      <td>2</td>\n      <td>2015-01-16 16:00:45</td>\n      <td>2015-01-16 16:00:53</td>\n      <td>1</td>\n      <td>0.00</td>\n      <td>-73.937721</td>\n      <td>40.758194</td>\n      <td>1</td>\n      <td>N</td>\n      <td>-73.937721</td>\n      <td>40.758194</td>\n      <td>3</td>\n      <td>-2.5</td>\n      <td>-1.0</td>\n      <td>-0.5</td>\n      <td>0.00</td>\n      <td>0.00</td>\n      <td>0.3</td>\n      <td>-4.300000</td>\n    </tr>\n    <tr>\n      <th>16703</th>\n      <td>2</td>\n      <td>2015-01-31 23:38:52</td>\n      <td>2015-01-31 23:38:54</td>\n      <td>2</td>\n      <td>0.00</td>\n      <td>0.000000</td>\n      <td>0.000000</td>\n      <td>2</td>\n      <td>N</td>\n      <td>0.000000</td>\n      <td>0.000000</td>\n      <td>2</td>\n      <td>-52.0</td>\n      <td>0.0</td>\n      <td>-0.5</td>\n      <td>0.00</td>\n      <td>0.00</td>\n      <td>0.3</td>\n      <td>-52.799999</td>\n    </tr>\n    <tr>\n      <th>19953</th>\n      <td>2</td>\n      <td>2015-01-10 02:23:53</td>\n      <td>2015-01-10 02:23:58</td>\n      <td>2</td>\n      <td>0.00</td>\n      <td>0.000000</td>\n      <td>0.000000</td>\n      <td>5</td>\n      <td>N</td>\n      <td>0.000000</td>\n      <td>0.000000</td>\n      <td>1</td>\n      <td>-6.8</td>\n      <td>0.0</td>\n      <td>0</td>\n      <td>-1.00</td>\n      <td>0.00</td>\n      <td>0.3</td>\n      <td>-8.100000</td>\n    </tr>\n    <tr>\n      <th>22989</th>\n      <td>2</td>\n      <td>2015-01-14 11:52:09</td>\n      <td>2015-01-14 11:52:20</td>\n      <td>1</td>\n      <td>0.00</td>\n      <td>-73.789955</td>\n      <td>40.646946</td>\n      <td>2</td>\n      <td>N</td>\n      <td>0.000000</td>\n      <td>0.000000</td>\n      <td>3</td>\n      <td>-52.0</td>\n      <td>0.0</td>\n      <td>-0.5</td>\n      <td>-14.33</td>\n      <td>-5.33</td>\n      <td>0.3</td>\n      <td>-72.459999</td>\n    </tr>\n    <tr>\n      <th>23879</th>\n      <td>2</td>\n      <td>2015-01-03 02:01:25</td>\n      <td>2015-01-03 02:01:54</td>\n      <td>1</td>\n      <td>0.03</td>\n      <td>-73.953407</td>\n      <td>40.811150</td>\n      <td>1</td>\n      <td>N</td>\n      <td>-73.953751</td>\n      <td>40.811302</td>\n      <td>2</td>\n      <td>-2.5</td>\n      <td>-0.5</td>\n      <td>-0.5</td>\n      <td>0.00</td>\n      <td>0.00</td>\n      <td>0.3</td>\n      <td>-3.800000</td>\n    </tr>\n    <tr>\n      <th>26582</th>\n      <td>2</td>\n      <td>2015-01-12 15:07:29</td>\n      <td>2015-01-12 15:07:35</td>\n      <td>1</td>\n      <td>0.00</td>\n      <td>0.000000</td>\n      <td>0.000000</td>\n      <td>2</td>\n      <td>N</td>\n      <td>0.000000</td>\n      <td>0.000000</td>\n      <td>2</td>\n      <td>-52.0</td>\n      <td>0.0</td>\n      <td>-0.5</td>\n      <td>0.00</td>\n      <td>0.00</td>\n      <td>0.3</td>\n      <td>-52.799999</td>\n    </tr>\n    <tr>\n      <th>27172</th>\n      <td>2</td>\n      <td>2015-01-06 14:07:25</td>\n      <td>2015-01-06 14:08:27</td>\n      <td>1</td>\n      <td>0.03</td>\n      <td>-73.994560</td>\n      <td>40.740318</td>\n      <td>1</td>\n      <td>N</td>\n      <td>-73.995331</td>\n      <td>40.740952</td>\n      <td>4</td>\n      <td>-2.5</td>\n      <td>0.0</td>\n      <td>-0.5</td>\n      <td>0.00</td>\n      <td>0.00</td>\n      <td>0.3</td>\n      <td>-3.300000</td>\n    </tr>\n    <tr>\n      <th>30188</th>\n      <td>2</td>\n      <td>2015-01-10 21:10:20</td>\n      <td>2015-01-10 21:12:39</td>\n      <td>1</td>\n      <td>0.03</td>\n      <td>-73.986328</td>\n      <td>40.755280</td>\n      <td>1</td>\n      <td>N</td>\n      <td>-73.985420</td>\n      <td>40.755089</td>\n      <td>4</td>\n      <td>-3.5</td>\n      <td>-0.5</td>\n      <td>-0.5</td>\n      <td>0.00</td>\n      <td>0.00</td>\n      <td>0.3</td>\n      <td>-4.800000</td>\n    </tr>\n  </tbody>\n</table>\n</div>"
     },
     "metadata": {},
     "execution_count": 54
    }
   ],
   "source": [
    "idx = ny['total_amount'] < 0\n",
    "print(ny[idx].shape)\n",
    "ny[idx].head(10)"
   ]
  },
  {
   "source": [
    "It doesn't make sense unless they are refunds. In that case, it means there are 2 records for the same pickup, one for the original trip and one for the refund.\n",
    "\n",
    "The data dictionary [https://storage.googleapis.com/hiring-test/data_dictionary_trip_records_yellow.pdf](link) defines the following categories of payment in the payment_type variable:\n",
    "\n",
    " - 1= Credit card \n",
    " - 2= Cash\n",
    " - 3= No charge \n",
    " - 4= Dispute\n",
    " - 5= Unknown \n",
    " - 6= Voided trip\n",
    "\n",
    "But from the small sample above it seems clear not all refunds are registered as 'Dispute', 'Voided trip'... So this field can't be trusted to identify refunds.\n",
    "\n",
    "Moving forward, records with a negative total_amount should be discarded to avoid duplicity.\n"
   ],
   "cell_type": "markdown",
   "metadata": {}
  },
  {
   "cell_type": "code",
   "execution_count": 55,
   "metadata": {},
   "outputs": [
    {
     "output_type": "stream",
     "name": "stdout",
     "text": [
      "(499841, 19)\n"
     ]
    },
    {
     "output_type": "execute_result",
     "data": {
      "text/plain": [
       "       passenger_count  trip_distance  pickup_longitude  pickup_latitude  \\\n",
       "count    499841.000000  499841.000000     499841.000000    499841.000000   \n",
       "mean          1.678048       3.020076        -72.475700        39.962208   \n",
       "std           1.334955     136.932465         10.140511         5.586823   \n",
       "min           0.000000       0.000000        -87.451874         0.000000   \n",
       "25%           1.000000       1.000000        -73.991669        40.735729   \n",
       "50%           1.000000       1.660000        -73.981567        40.753304   \n",
       "75%           2.000000       3.000000        -73.966614        40.767715   \n",
       "max           9.000000   92000.898438          0.000000        42.294155   \n",
       "\n",
       "       dropoff_longitude  dropoff_latitude    fare_amount          extra  \\\n",
       "count      499841.000000     499841.000000  499841.000000  499841.000000   \n",
       "mean          -72.522324         39.988068      11.879146       0.314949   \n",
       "std             9.978506          5.495912      10.123908       0.367364   \n",
       "min           -86.731705          0.000000       0.000000       0.000000   \n",
       "25%           -73.991219         40.734531       6.500000       0.000000   \n",
       "50%           -73.979820         40.753761       9.000000       0.000000   \n",
       "75%           -73.962532         40.768944      13.500000       0.500000   \n",
       "max             0.000000         49.194656     900.000000       7.000000   \n",
       "\n",
       "          tip_amount   tolls_amount   total_amount  \n",
       "count  499841.000000  499841.000000  499841.000000  \n",
       "mean        1.543758       0.241747      14.814079  \n",
       "std         2.509445       1.224175      12.286285  \n",
       "min         0.000000       0.000000       0.000000  \n",
       "25%         0.000000       0.000000       8.160000  \n",
       "50%         1.000000       0.000000      11.150000  \n",
       "75%         2.060000       0.000000      16.299999  \n",
       "max       750.000000      95.330002     900.299988  "
      ],
      "text/html": "<div>\n<style scoped>\n    .dataframe tbody tr th:only-of-type {\n        vertical-align: middle;\n    }\n\n    .dataframe tbody tr th {\n        vertical-align: top;\n    }\n\n    .dataframe thead th {\n        text-align: right;\n    }\n</style>\n<table border=\"1\" class=\"dataframe\">\n  <thead>\n    <tr style=\"text-align: right;\">\n      <th></th>\n      <th>passenger_count</th>\n      <th>trip_distance</th>\n      <th>pickup_longitude</th>\n      <th>pickup_latitude</th>\n      <th>dropoff_longitude</th>\n      <th>dropoff_latitude</th>\n      <th>fare_amount</th>\n      <th>extra</th>\n      <th>tip_amount</th>\n      <th>tolls_amount</th>\n      <th>total_amount</th>\n    </tr>\n  </thead>\n  <tbody>\n    <tr>\n      <th>count</th>\n      <td>499841.000000</td>\n      <td>499841.000000</td>\n      <td>499841.000000</td>\n      <td>499841.000000</td>\n      <td>499841.000000</td>\n      <td>499841.000000</td>\n      <td>499841.000000</td>\n      <td>499841.000000</td>\n      <td>499841.000000</td>\n      <td>499841.000000</td>\n      <td>499841.000000</td>\n    </tr>\n    <tr>\n      <th>mean</th>\n      <td>1.678048</td>\n      <td>3.020076</td>\n      <td>-72.475700</td>\n      <td>39.962208</td>\n      <td>-72.522324</td>\n      <td>39.988068</td>\n      <td>11.879146</td>\n      <td>0.314949</td>\n      <td>1.543758</td>\n      <td>0.241747</td>\n      <td>14.814079</td>\n    </tr>\n    <tr>\n      <th>std</th>\n      <td>1.334955</td>\n      <td>136.932465</td>\n      <td>10.140511</td>\n      <td>5.586823</td>\n      <td>9.978506</td>\n      <td>5.495912</td>\n      <td>10.123908</td>\n      <td>0.367364</td>\n      <td>2.509445</td>\n      <td>1.224175</td>\n      <td>12.286285</td>\n    </tr>\n    <tr>\n      <th>min</th>\n      <td>0.000000</td>\n      <td>0.000000</td>\n      <td>-87.451874</td>\n      <td>0.000000</td>\n      <td>-86.731705</td>\n      <td>0.000000</td>\n      <td>0.000000</td>\n      <td>0.000000</td>\n      <td>0.000000</td>\n      <td>0.000000</td>\n      <td>0.000000</td>\n    </tr>\n    <tr>\n      <th>25%</th>\n      <td>1.000000</td>\n      <td>1.000000</td>\n      <td>-73.991669</td>\n      <td>40.735729</td>\n      <td>-73.991219</td>\n      <td>40.734531</td>\n      <td>6.500000</td>\n      <td>0.000000</td>\n      <td>0.000000</td>\n      <td>0.000000</td>\n      <td>8.160000</td>\n    </tr>\n    <tr>\n      <th>50%</th>\n      <td>1.000000</td>\n      <td>1.660000</td>\n      <td>-73.981567</td>\n      <td>40.753304</td>\n      <td>-73.979820</td>\n      <td>40.753761</td>\n      <td>9.000000</td>\n      <td>0.000000</td>\n      <td>1.000000</td>\n      <td>0.000000</td>\n      <td>11.150000</td>\n    </tr>\n    <tr>\n      <th>75%</th>\n      <td>2.000000</td>\n      <td>3.000000</td>\n      <td>-73.966614</td>\n      <td>40.767715</td>\n      <td>-73.962532</td>\n      <td>40.768944</td>\n      <td>13.500000</td>\n      <td>0.500000</td>\n      <td>2.060000</td>\n      <td>0.000000</td>\n      <td>16.299999</td>\n    </tr>\n    <tr>\n      <th>max</th>\n      <td>9.000000</td>\n      <td>92000.898438</td>\n      <td>0.000000</td>\n      <td>42.294155</td>\n      <td>0.000000</td>\n      <td>49.194656</td>\n      <td>900.000000</td>\n      <td>7.000000</td>\n      <td>750.000000</td>\n      <td>95.330002</td>\n      <td>900.299988</td>\n    </tr>\n  </tbody>\n</table>\n</div>"
     },
     "metadata": {},
     "execution_count": 55
    }
   ],
   "source": [
    "ny = ny[ny['total_amount'] >= 0]\n",
    "print(ny.shape)\n",
    "ny.describe()"
   ]
  },
  {
   "source": [
    "It also stands out that the minimum latitude for the pickups and the dropoffs is 0 (pretty far from NYC). The same happens with the max longitude."
   ],
   "cell_type": "markdown",
   "metadata": {}
  },
  {
   "cell_type": "code",
   "execution_count": 56,
   "metadata": {},
   "outputs": [
    {
     "output_type": "stream",
     "name": "stdout",
     "text": [
      "(9537, 19)\n"
     ]
    },
    {
     "output_type": "execute_result",
     "data": {
      "text/plain": [
       "    VendorID tpep_pickup_datetime tpep_dropoff_datetime  passenger_count  \\\n",
       "31         2  2015-01-15 19:05:43   2015-01-15 19:05:44                2   \n",
       "61         1  2015-01-04 13:44:52   2015-01-04 13:56:49                1   \n",
       "66         2  2015-01-04 13:44:52   2015-01-04 13:49:03                1   \n",
       "157        1  2015-01-15 09:47:00   2015-01-15 10:00:07                1   \n",
       "159        1  2015-01-15 09:47:02   2015-01-15 10:17:47                3   \n",
       "\n",
       "     trip_distance  pickup_longitude  pickup_latitude RateCodeID  \\\n",
       "31            0.01               0.0              0.0          5   \n",
       "61            2.50               0.0              0.0          1   \n",
       "66            0.85               0.0              0.0          1   \n",
       "157           1.00               0.0              0.0          1   \n",
       "159           8.30               0.0              0.0          1   \n",
       "\n",
       "    store_and_fwd_flag  dropoff_longitude  dropoff_latitude payment_type  \\\n",
       "31                   N                0.0               0.0            1   \n",
       "61                   N                0.0               0.0            1   \n",
       "66                   N                0.0               0.0            2   \n",
       "157                  N                0.0               0.0            2   \n",
       "159                  N                0.0               0.0            1   \n",
       "\n",
       "     fare_amount  extra mta_tax  tip_amount  tolls_amount  \\\n",
       "31          60.0    0.0       0        0.00          0.00   \n",
       "61          11.0    0.0     0.5        2.35          0.00   \n",
       "66           5.5    0.0     0.5        0.00          0.00   \n",
       "157         10.0    0.0     0.5        0.00          0.00   \n",
       "159         27.5    0.0     0.5       10.00          5.33   \n",
       "\n",
       "    improvement_surcharge  total_amount  \n",
       "31                    0.3     60.299999  \n",
       "61                      0     14.150000  \n",
       "66                    0.3      6.300000  \n",
       "157                   0.3     10.800000  \n",
       "159                   0.3     43.630001  "
      ],
      "text/html": "<div>\n<style scoped>\n    .dataframe tbody tr th:only-of-type {\n        vertical-align: middle;\n    }\n\n    .dataframe tbody tr th {\n        vertical-align: top;\n    }\n\n    .dataframe thead th {\n        text-align: right;\n    }\n</style>\n<table border=\"1\" class=\"dataframe\">\n  <thead>\n    <tr style=\"text-align: right;\">\n      <th></th>\n      <th>VendorID</th>\n      <th>tpep_pickup_datetime</th>\n      <th>tpep_dropoff_datetime</th>\n      <th>passenger_count</th>\n      <th>trip_distance</th>\n      <th>pickup_longitude</th>\n      <th>pickup_latitude</th>\n      <th>RateCodeID</th>\n      <th>store_and_fwd_flag</th>\n      <th>dropoff_longitude</th>\n      <th>dropoff_latitude</th>\n      <th>payment_type</th>\n      <th>fare_amount</th>\n      <th>extra</th>\n      <th>mta_tax</th>\n      <th>tip_amount</th>\n      <th>tolls_amount</th>\n      <th>improvement_surcharge</th>\n      <th>total_amount</th>\n    </tr>\n  </thead>\n  <tbody>\n    <tr>\n      <th>31</th>\n      <td>2</td>\n      <td>2015-01-15 19:05:43</td>\n      <td>2015-01-15 19:05:44</td>\n      <td>2</td>\n      <td>0.01</td>\n      <td>0.0</td>\n      <td>0.0</td>\n      <td>5</td>\n      <td>N</td>\n      <td>0.0</td>\n      <td>0.0</td>\n      <td>1</td>\n      <td>60.0</td>\n      <td>0.0</td>\n      <td>0</td>\n      <td>0.00</td>\n      <td>0.00</td>\n      <td>0.3</td>\n      <td>60.299999</td>\n    </tr>\n    <tr>\n      <th>61</th>\n      <td>1</td>\n      <td>2015-01-04 13:44:52</td>\n      <td>2015-01-04 13:56:49</td>\n      <td>1</td>\n      <td>2.50</td>\n      <td>0.0</td>\n      <td>0.0</td>\n      <td>1</td>\n      <td>N</td>\n      <td>0.0</td>\n      <td>0.0</td>\n      <td>1</td>\n      <td>11.0</td>\n      <td>0.0</td>\n      <td>0.5</td>\n      <td>2.35</td>\n      <td>0.00</td>\n      <td>0</td>\n      <td>14.150000</td>\n    </tr>\n    <tr>\n      <th>66</th>\n      <td>2</td>\n      <td>2015-01-04 13:44:52</td>\n      <td>2015-01-04 13:49:03</td>\n      <td>1</td>\n      <td>0.85</td>\n      <td>0.0</td>\n      <td>0.0</td>\n      <td>1</td>\n      <td>N</td>\n      <td>0.0</td>\n      <td>0.0</td>\n      <td>2</td>\n      <td>5.5</td>\n      <td>0.0</td>\n      <td>0.5</td>\n      <td>0.00</td>\n      <td>0.00</td>\n      <td>0.3</td>\n      <td>6.300000</td>\n    </tr>\n    <tr>\n      <th>157</th>\n      <td>1</td>\n      <td>2015-01-15 09:47:00</td>\n      <td>2015-01-15 10:00:07</td>\n      <td>1</td>\n      <td>1.00</td>\n      <td>0.0</td>\n      <td>0.0</td>\n      <td>1</td>\n      <td>N</td>\n      <td>0.0</td>\n      <td>0.0</td>\n      <td>2</td>\n      <td>10.0</td>\n      <td>0.0</td>\n      <td>0.5</td>\n      <td>0.00</td>\n      <td>0.00</td>\n      <td>0.3</td>\n      <td>10.800000</td>\n    </tr>\n    <tr>\n      <th>159</th>\n      <td>1</td>\n      <td>2015-01-15 09:47:02</td>\n      <td>2015-01-15 10:17:47</td>\n      <td>3</td>\n      <td>8.30</td>\n      <td>0.0</td>\n      <td>0.0</td>\n      <td>1</td>\n      <td>N</td>\n      <td>0.0</td>\n      <td>0.0</td>\n      <td>1</td>\n      <td>27.5</td>\n      <td>0.0</td>\n      <td>0.5</td>\n      <td>10.00</td>\n      <td>5.33</td>\n      <td>0.3</td>\n      <td>43.630001</td>\n    </tr>\n  </tbody>\n</table>\n</div>"
     },
     "metadata": {},
     "execution_count": 56
    }
   ],
   "source": [
    "idx = ny['pickup_longitude'] == 0\n",
    "print(ny[idx].shape)\n",
    "ny[idx].head()"
   ]
  },
  {
   "source": [
    "ny = ny[ny['trip_distance'] != 0]\n",
    "print(ny.shape)\n",
    "ny.describe()"
   ],
   "cell_type": "code",
   "metadata": {},
   "execution_count": 59,
   "outputs": [
    {
     "output_type": "stream",
     "name": "stdout",
     "text": [
      "(487557, 19)\n"
     ]
    },
    {
     "output_type": "execute_result",
     "data": {
      "text/plain": [
       "       passenger_count  trip_distance  pickup_longitude  pickup_latitude  \\\n",
       "count    487557.000000  487557.000000     487557.000000    487557.000000   \n",
       "mean          1.685159       3.045619        -73.893021        40.743725   \n",
       "std           1.342100     138.646118          0.092528         0.075619   \n",
       "min           0.000000       0.010000        -87.451874         4.789132   \n",
       "25%           1.000000       1.000000        -73.991859        40.737282   \n",
       "50%           1.000000       1.680000        -73.981918        40.754162   \n",
       "75%           2.000000       3.000000        -73.967941        40.768108   \n",
       "max           6.000000   92000.898438        -69.598526        42.294155   \n",
       "\n",
       "       dropoff_longitude  dropoff_latitude    fare_amount          extra  \\\n",
       "count      487557.000000     487557.000000  487557.000000  487557.000000   \n",
       "mean          -73.893669         40.744274      11.834699       0.315770   \n",
       "std             0.140841          0.048933       9.713044       0.368701   \n",
       "min           -86.731705         18.625944       0.000000       0.000000   \n",
       "25%           -73.991379         40.736206       6.500000       0.000000   \n",
       "50%           -73.980286         40.754509       9.000000       0.000000   \n",
       "75%           -73.964012         40.769390      13.500000       0.500000   \n",
       "max            -0.116667         49.194656     420.000000       7.000000   \n",
       "\n",
       "          tip_amount   tolls_amount   total_amount  \n",
       "count  487557.000000  487557.000000  487557.000000  \n",
       "mean        1.536876       0.240548      14.760816  \n",
       "std         2.216422       1.220723      11.854428  \n",
       "min         0.000000       0.000000       0.000000  \n",
       "25%         0.000000       0.000000       8.300000  \n",
       "50%         1.000000       0.000000      11.160000  \n",
       "75%         2.060000       0.000000      16.299999  \n",
       "max       200.000000      95.330002     453.299988  "
      ],
      "text/html": "<div>\n<style scoped>\n    .dataframe tbody tr th:only-of-type {\n        vertical-align: middle;\n    }\n\n    .dataframe tbody tr th {\n        vertical-align: top;\n    }\n\n    .dataframe thead th {\n        text-align: right;\n    }\n</style>\n<table border=\"1\" class=\"dataframe\">\n  <thead>\n    <tr style=\"text-align: right;\">\n      <th></th>\n      <th>passenger_count</th>\n      <th>trip_distance</th>\n      <th>pickup_longitude</th>\n      <th>pickup_latitude</th>\n      <th>dropoff_longitude</th>\n      <th>dropoff_latitude</th>\n      <th>fare_amount</th>\n      <th>extra</th>\n      <th>tip_amount</th>\n      <th>tolls_amount</th>\n      <th>total_amount</th>\n    </tr>\n  </thead>\n  <tbody>\n    <tr>\n      <th>count</th>\n      <td>487557.000000</td>\n      <td>487557.000000</td>\n      <td>487557.000000</td>\n      <td>487557.000000</td>\n      <td>487557.000000</td>\n      <td>487557.000000</td>\n      <td>487557.000000</td>\n      <td>487557.000000</td>\n      <td>487557.000000</td>\n      <td>487557.000000</td>\n      <td>487557.000000</td>\n    </tr>\n    <tr>\n      <th>mean</th>\n      <td>1.685159</td>\n      <td>3.045619</td>\n      <td>-73.893021</td>\n      <td>40.743725</td>\n      <td>-73.893669</td>\n      <td>40.744274</td>\n      <td>11.834699</td>\n      <td>0.315770</td>\n      <td>1.536876</td>\n      <td>0.240548</td>\n      <td>14.760816</td>\n    </tr>\n    <tr>\n      <th>std</th>\n      <td>1.342100</td>\n      <td>138.646118</td>\n      <td>0.092528</td>\n      <td>0.075619</td>\n      <td>0.140841</td>\n      <td>0.048933</td>\n      <td>9.713044</td>\n      <td>0.368701</td>\n      <td>2.216422</td>\n      <td>1.220723</td>\n      <td>11.854428</td>\n    </tr>\n    <tr>\n      <th>min</th>\n      <td>0.000000</td>\n      <td>0.010000</td>\n      <td>-87.451874</td>\n      <td>4.789132</td>\n      <td>-86.731705</td>\n      <td>18.625944</td>\n      <td>0.000000</td>\n      <td>0.000000</td>\n      <td>0.000000</td>\n      <td>0.000000</td>\n      <td>0.000000</td>\n    </tr>\n    <tr>\n      <th>25%</th>\n      <td>1.000000</td>\n      <td>1.000000</td>\n      <td>-73.991859</td>\n      <td>40.737282</td>\n      <td>-73.991379</td>\n      <td>40.736206</td>\n      <td>6.500000</td>\n      <td>0.000000</td>\n      <td>0.000000</td>\n      <td>0.000000</td>\n      <td>8.300000</td>\n    </tr>\n    <tr>\n      <th>50%</th>\n      <td>1.000000</td>\n      <td>1.680000</td>\n      <td>-73.981918</td>\n      <td>40.754162</td>\n      <td>-73.980286</td>\n      <td>40.754509</td>\n      <td>9.000000</td>\n      <td>0.000000</td>\n      <td>1.000000</td>\n      <td>0.000000</td>\n      <td>11.160000</td>\n    </tr>\n    <tr>\n      <th>75%</th>\n      <td>2.000000</td>\n      <td>3.000000</td>\n      <td>-73.967941</td>\n      <td>40.768108</td>\n      <td>-73.964012</td>\n      <td>40.769390</td>\n      <td>13.500000</td>\n      <td>0.500000</td>\n      <td>2.060000</td>\n      <td>0.000000</td>\n      <td>16.299999</td>\n    </tr>\n    <tr>\n      <th>max</th>\n      <td>6.000000</td>\n      <td>92000.898438</td>\n      <td>-69.598526</td>\n      <td>42.294155</td>\n      <td>-0.116667</td>\n      <td>49.194656</td>\n      <td>420.000000</td>\n      <td>7.000000</td>\n      <td>200.000000</td>\n      <td>95.330002</td>\n      <td>453.299988</td>\n    </tr>\n  </tbody>\n</table>\n</div>"
     },
     "metadata": {},
     "execution_count": 59
    }
   ]
  },
  {
   "source": [
    "It's clear that the location data is invalid for these records. This data will get discarded later when joining with the geojson data. For now I'll discard manually"
   ],
   "cell_type": "markdown",
   "metadata": {}
  },
  {
   "cell_type": "code",
   "execution_count": 57,
   "metadata": {},
   "outputs": [
    {
     "output_type": "stream",
     "name": "stdout",
     "text": [
      "(489492, 19)\n"
     ]
    },
    {
     "output_type": "execute_result",
     "data": {
      "text/plain": [
       "       passenger_count  trip_distance  pickup_longitude  pickup_latitude  \\\n",
       "count    489492.000000  489492.000000     489492.000000    489492.000000   \n",
       "mean          1.683772       3.033579        -73.887733        40.740753   \n",
       "std           1.341065     138.371902          0.097233         0.075878   \n",
       "min           0.000000       0.000000        -87.451874         4.789132   \n",
       "25%           1.000000       1.000000        -73.991852        40.737263   \n",
       "50%           1.000000       1.670000        -73.981911        40.754145   \n",
       "75%           2.000000       3.000000        -73.967886        40.768101   \n",
       "max           9.000000   92000.898438        -69.598526        42.294155   \n",
       "\n",
       "       dropoff_longitude  dropoff_latitude    fare_amount          extra  \\\n",
       "count      489492.000000     489492.000000  489492.000000  489492.000000   \n",
       "mean          -73.888496         40.741306      11.856030       0.315313   \n",
       "std             0.143711          0.049497       9.942463       0.367270   \n",
       "min           -86.731705         18.625944       0.000000       0.000000   \n",
       "25%           -73.991379         40.736179       6.500000       0.000000   \n",
       "50%           -73.980270         40.754494       9.000000       0.000000   \n",
       "75%           -73.963936         40.769379      13.500000       0.500000   \n",
       "max            -0.116667         49.194656     900.000000       7.000000   \n",
       "\n",
       "          tip_amount   tolls_amount   total_amount  \n",
       "count  489492.000000  489492.000000  489492.000000  \n",
       "mean        1.541835       0.241740      14.787927  \n",
       "std         2.493864       1.224812      12.123513  \n",
       "min         0.000000       0.000000       0.000000  \n",
       "25%         0.000000       0.000000       8.300000  \n",
       "50%         1.000000       0.000000      11.150000  \n",
       "75%         2.060000       0.000000      16.299999  \n",
       "max       750.000000      95.330002     900.299988  "
      ],
      "text/html": "<div>\n<style scoped>\n    .dataframe tbody tr th:only-of-type {\n        vertical-align: middle;\n    }\n\n    .dataframe tbody tr th {\n        vertical-align: top;\n    }\n\n    .dataframe thead th {\n        text-align: right;\n    }\n</style>\n<table border=\"1\" class=\"dataframe\">\n  <thead>\n    <tr style=\"text-align: right;\">\n      <th></th>\n      <th>passenger_count</th>\n      <th>trip_distance</th>\n      <th>pickup_longitude</th>\n      <th>pickup_latitude</th>\n      <th>dropoff_longitude</th>\n      <th>dropoff_latitude</th>\n      <th>fare_amount</th>\n      <th>extra</th>\n      <th>tip_amount</th>\n      <th>tolls_amount</th>\n      <th>total_amount</th>\n    </tr>\n  </thead>\n  <tbody>\n    <tr>\n      <th>count</th>\n      <td>489492.000000</td>\n      <td>489492.000000</td>\n      <td>489492.000000</td>\n      <td>489492.000000</td>\n      <td>489492.000000</td>\n      <td>489492.000000</td>\n      <td>489492.000000</td>\n      <td>489492.000000</td>\n      <td>489492.000000</td>\n      <td>489492.000000</td>\n      <td>489492.000000</td>\n    </tr>\n    <tr>\n      <th>mean</th>\n      <td>1.683772</td>\n      <td>3.033579</td>\n      <td>-73.887733</td>\n      <td>40.740753</td>\n      <td>-73.888496</td>\n      <td>40.741306</td>\n      <td>11.856030</td>\n      <td>0.315313</td>\n      <td>1.541835</td>\n      <td>0.241740</td>\n      <td>14.787927</td>\n    </tr>\n    <tr>\n      <th>std</th>\n      <td>1.341065</td>\n      <td>138.371902</td>\n      <td>0.097233</td>\n      <td>0.075878</td>\n      <td>0.143711</td>\n      <td>0.049497</td>\n      <td>9.942463</td>\n      <td>0.367270</td>\n      <td>2.493864</td>\n      <td>1.224812</td>\n      <td>12.123513</td>\n    </tr>\n    <tr>\n      <th>min</th>\n      <td>0.000000</td>\n      <td>0.000000</td>\n      <td>-87.451874</td>\n      <td>4.789132</td>\n      <td>-86.731705</td>\n      <td>18.625944</td>\n      <td>0.000000</td>\n      <td>0.000000</td>\n      <td>0.000000</td>\n      <td>0.000000</td>\n      <td>0.000000</td>\n    </tr>\n    <tr>\n      <th>25%</th>\n      <td>1.000000</td>\n      <td>1.000000</td>\n      <td>-73.991852</td>\n      <td>40.737263</td>\n      <td>-73.991379</td>\n      <td>40.736179</td>\n      <td>6.500000</td>\n      <td>0.000000</td>\n      <td>0.000000</td>\n      <td>0.000000</td>\n      <td>8.300000</td>\n    </tr>\n    <tr>\n      <th>50%</th>\n      <td>1.000000</td>\n      <td>1.670000</td>\n      <td>-73.981911</td>\n      <td>40.754145</td>\n      <td>-73.980270</td>\n      <td>40.754494</td>\n      <td>9.000000</td>\n      <td>0.000000</td>\n      <td>1.000000</td>\n      <td>0.000000</td>\n      <td>11.150000</td>\n    </tr>\n    <tr>\n      <th>75%</th>\n      <td>2.000000</td>\n      <td>3.000000</td>\n      <td>-73.967886</td>\n      <td>40.768101</td>\n      <td>-73.963936</td>\n      <td>40.769379</td>\n      <td>13.500000</td>\n      <td>0.500000</td>\n      <td>2.060000</td>\n      <td>0.000000</td>\n      <td>16.299999</td>\n    </tr>\n    <tr>\n      <th>max</th>\n      <td>9.000000</td>\n      <td>92000.898438</td>\n      <td>-69.598526</td>\n      <td>42.294155</td>\n      <td>-0.116667</td>\n      <td>49.194656</td>\n      <td>900.000000</td>\n      <td>7.000000</td>\n      <td>750.000000</td>\n      <td>95.330002</td>\n      <td>900.299988</td>\n    </tr>\n  </tbody>\n</table>\n</div>"
     },
     "metadata": {},
     "execution_count": 57
    }
   ],
   "source": [
    "ny = ny[ny['pickup_longitude'] != 0]\n",
    "ny = ny[ny['dropoff_longitude'] != 0]\n",
    "print(ny.shape)\n",
    "ny.describe()"
   ]
  },
  {
   "cell_type": "code",
   "execution_count": 58,
   "metadata": {},
   "outputs": [
    {
     "output_type": "stream",
     "name": "stdout",
     "text": [
      "(1935, 19)\n"
     ]
    },
    {
     "output_type": "execute_result",
     "data": {
      "text/plain": [
       "    VendorID tpep_pickup_datetime tpep_dropoff_datetime  passenger_count  \\\n",
       "132        1  2015-01-15 10:26:16   2015-01-15 10:26:42                2   \n",
       "133        1  2015-01-15 10:26:17   2015-01-15 10:27:28                1   \n",
       "707        1  2015-01-10 20:14:23   2015-01-10 20:14:36                1   \n",
       "876        1  2015-01-23 17:43:08   2015-01-23 17:43:31                1   \n",
       "941        1  2015-01-28 20:22:17   2015-01-28 20:23:36                1   \n",
       "\n",
       "     trip_distance  pickup_longitude  pickup_latitude RateCodeID  \\\n",
       "132            0.0        -73.987656        40.743645          5   \n",
       "133            0.0        -73.946526        40.744991          1   \n",
       "707            0.0        -73.993271        40.748833          1   \n",
       "876            0.0        -73.970345        40.762089          1   \n",
       "941            0.0        -73.989746        40.735394          1   \n",
       "\n",
       "    store_and_fwd_flag  dropoff_longitude  dropoff_latitude payment_type  \\\n",
       "132                  N         -73.987488         40.743484            1   \n",
       "133                  N         -73.946526         40.744991            2   \n",
       "707                  N         -73.993271         40.748833            3   \n",
       "876                  N         -73.970345         40.762089            3   \n",
       "941                  N         -73.989540         40.735474            3   \n",
       "\n",
       "     fare_amount  extra mta_tax  tip_amount  tolls_amount  \\\n",
       "132         60.0    0.0       0        15.0           0.0   \n",
       "133          3.0    0.0     0.5         0.0           0.0   \n",
       "707          2.5    0.5     0.5         0.0           0.0   \n",
       "876          2.5    1.0     0.5         0.0           0.0   \n",
       "941          3.0    0.5     0.5         0.0           0.0   \n",
       "\n",
       "    improvement_surcharge  total_amount  \n",
       "132                   0.3     75.300003  \n",
       "133                   0.3      3.800000  \n",
       "707                   0.3      3.800000  \n",
       "876                   0.3      4.300000  \n",
       "941                   0.3      4.300000  "
      ],
      "text/html": "<div>\n<style scoped>\n    .dataframe tbody tr th:only-of-type {\n        vertical-align: middle;\n    }\n\n    .dataframe tbody tr th {\n        vertical-align: top;\n    }\n\n    .dataframe thead th {\n        text-align: right;\n    }\n</style>\n<table border=\"1\" class=\"dataframe\">\n  <thead>\n    <tr style=\"text-align: right;\">\n      <th></th>\n      <th>VendorID</th>\n      <th>tpep_pickup_datetime</th>\n      <th>tpep_dropoff_datetime</th>\n      <th>passenger_count</th>\n      <th>trip_distance</th>\n      <th>pickup_longitude</th>\n      <th>pickup_latitude</th>\n      <th>RateCodeID</th>\n      <th>store_and_fwd_flag</th>\n      <th>dropoff_longitude</th>\n      <th>dropoff_latitude</th>\n      <th>payment_type</th>\n      <th>fare_amount</th>\n      <th>extra</th>\n      <th>mta_tax</th>\n      <th>tip_amount</th>\n      <th>tolls_amount</th>\n      <th>improvement_surcharge</th>\n      <th>total_amount</th>\n    </tr>\n  </thead>\n  <tbody>\n    <tr>\n      <th>132</th>\n      <td>1</td>\n      <td>2015-01-15 10:26:16</td>\n      <td>2015-01-15 10:26:42</td>\n      <td>2</td>\n      <td>0.0</td>\n      <td>-73.987656</td>\n      <td>40.743645</td>\n      <td>5</td>\n      <td>N</td>\n      <td>-73.987488</td>\n      <td>40.743484</td>\n      <td>1</td>\n      <td>60.0</td>\n      <td>0.0</td>\n      <td>0</td>\n      <td>15.0</td>\n      <td>0.0</td>\n      <td>0.3</td>\n      <td>75.300003</td>\n    </tr>\n    <tr>\n      <th>133</th>\n      <td>1</td>\n      <td>2015-01-15 10:26:17</td>\n      <td>2015-01-15 10:27:28</td>\n      <td>1</td>\n      <td>0.0</td>\n      <td>-73.946526</td>\n      <td>40.744991</td>\n      <td>1</td>\n      <td>N</td>\n      <td>-73.946526</td>\n      <td>40.744991</td>\n      <td>2</td>\n      <td>3.0</td>\n      <td>0.0</td>\n      <td>0.5</td>\n      <td>0.0</td>\n      <td>0.0</td>\n      <td>0.3</td>\n      <td>3.800000</td>\n    </tr>\n    <tr>\n      <th>707</th>\n      <td>1</td>\n      <td>2015-01-10 20:14:23</td>\n      <td>2015-01-10 20:14:36</td>\n      <td>1</td>\n      <td>0.0</td>\n      <td>-73.993271</td>\n      <td>40.748833</td>\n      <td>1</td>\n      <td>N</td>\n      <td>-73.993271</td>\n      <td>40.748833</td>\n      <td>3</td>\n      <td>2.5</td>\n      <td>0.5</td>\n      <td>0.5</td>\n      <td>0.0</td>\n      <td>0.0</td>\n      <td>0.3</td>\n      <td>3.800000</td>\n    </tr>\n    <tr>\n      <th>876</th>\n      <td>1</td>\n      <td>2015-01-23 17:43:08</td>\n      <td>2015-01-23 17:43:31</td>\n      <td>1</td>\n      <td>0.0</td>\n      <td>-73.970345</td>\n      <td>40.762089</td>\n      <td>1</td>\n      <td>N</td>\n      <td>-73.970345</td>\n      <td>40.762089</td>\n      <td>3</td>\n      <td>2.5</td>\n      <td>1.0</td>\n      <td>0.5</td>\n      <td>0.0</td>\n      <td>0.0</td>\n      <td>0.3</td>\n      <td>4.300000</td>\n    </tr>\n    <tr>\n      <th>941</th>\n      <td>1</td>\n      <td>2015-01-28 20:22:17</td>\n      <td>2015-01-28 20:23:36</td>\n      <td>1</td>\n      <td>0.0</td>\n      <td>-73.989746</td>\n      <td>40.735394</td>\n      <td>1</td>\n      <td>N</td>\n      <td>-73.989540</td>\n      <td>40.735474</td>\n      <td>3</td>\n      <td>3.0</td>\n      <td>0.5</td>\n      <td>0.5</td>\n      <td>0.0</td>\n      <td>0.0</td>\n      <td>0.3</td>\n      <td>4.300000</td>\n    </tr>\n  </tbody>\n</table>\n</div>"
     },
     "metadata": {},
     "execution_count": 58
    }
   ],
   "source": [
    "print(ny[ny['trip_distance'] == 0].shape)\n",
    "ny[ny['trip_distance'] == 0].head()"
   ]
  },
  {
   "source": [
    "Either the pickup or the dropoff is wrong. Or maybe these records are additional charges made at the dropoff location after a wrong mischarge. If that's the case this is not actually a pickup, so I'm inclinded to delete this records (although I recognize an argument could be made towards keeping them)."
   ],
   "cell_type": "markdown",
   "metadata": {}
  },
  {
   "source": [
    "There still seem to be wrong coordinates (max dropoff longitude = -0.11) but as I said, they will be discarded later.\n",
    "\n",
    "There are also lines where the trip distance is 0."
   ],
   "cell_type": "markdown",
   "metadata": {}
  },
  {
   "source": [
    "Finally, there are rows where the passenger count is 0, but this can be attributed to a wrognful registry of the data and it doesn't really affect the scope of this analysis.\n",
    "\n",
    "We started with 499999 records and after cleaning we have 487557. In the next step, we'll try to clean the whole dataset."
   ],
   "cell_type": "markdown",
   "metadata": {}
  },
  {
   "source": [
    "# Preprocessing\n",
    "\n",
    "There is an estimate of 40M records, so I created a helper script (src/read_nyc_data.py) to read only the data I need and store in the feather format. Two files were created, one that only has the columns I need going forward and another with all the columns (in case I need it later)"
   ],
   "cell_type": "markdown",
   "metadata": {}
  },
  {
   "cell_type": "code",
   "execution_count": null,
   "metadata": {},
   "outputs": [],
   "source": []
  }
 ]
}